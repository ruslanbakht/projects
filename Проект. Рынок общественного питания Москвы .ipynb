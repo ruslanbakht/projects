{
 "cells": [
  {
   "cell_type": "markdown",
   "id": "e06910dd",
   "metadata": {
    "id": "e06910dd"
   },
   "source": [
    "# Исседование рынка общественного питания в Москве на основе данных Яндекс Карты и Яндекс Бизнес\n",
    "\n",
    "- Автор: Бахтигареев Руслан\n",
    "- Дата: 10.05.2025"
   ]
  },
  {
   "cell_type": "markdown",
   "id": "4149134c",
   "metadata": {
    "id": "4149134c"
   },
   "source": [
    "## 1. Цели и задачи проекта\n",
    "\n",
    "**Цель:**  провести анализ рынка общественного питания в Москве и написать рекоммендации для выбора места и концепции заведения общепита с помощью датасета составленного на основе данных сервисов Яндекс Карты и Яндекс Бизнес на лето 2022 года\n",
    "\n",
    "**Задачи:**\n",
    "1. Загрузить данные  и познакомиться с ними\n",
    "2. Подготовить данные к исседовательскому анализу, обработать пропуски и дубликаты, привести данные к нужному типу и виду\n",
    "3. Провести исследовательский анализ: категорий заведений, распределения по районам, сравнить сетевые и несетевые завдеения, количества посадочных мест, найти корреляции, определить топ-15 заведений, среднего чека.\n",
    "4. Сформулировать итоговый вывод и рекоммендации для заказчика"
   ]
  },
  {
   "cell_type": "markdown",
   "id": "728986ea",
   "metadata": {
    "id": "728986ea"
   },
   "source": [
    "## 2. Описание данных\n",
    "\n",
    "\n",
    "#### Описаниие rest_info\n",
    "\n",
    "- name — название заведения;\n",
    "- address — адрес заведения;\n",
    "- district — административный район, в котором находится заведение, например Центральный административный округ;\n",
    "- category — категория заведения, например «кафе», «пиццерия» или «кофейня»;\n",
    "- hours — информация о днях и часах работы;\n",
    "- rating — рейтинг заведения по оценкам пользователей в Яндекс Картах (высшая оценка — 5.0);\n",
    "- chain — число, выраженное 0 или 1, которое показывает, является ли заведение сетевым (для маленьких сетей могут встречаться ошибки):\n",
    "- 0 — заведение не является сетевым;\n",
    "- 1 — заведение является сетевым.\n",
    "- seats — количество посадочных мест.\n",
    "#### Описаниие rest_price\n",
    "\n",
    "- price — категория цен в заведении, например «средние», «ниже среднего», «выше среднего» и так далее;\n",
    "- avg_bill — строка, которая хранит среднюю стоимость заказа в виде диапазона, например:\n",
    "«Средний счёт: 1000–1500 ₽»;\n",
    "«Цена чашки капучино: 130–220 ₽»;\n",
    "«Цена бокала пива: 400–600 ₽».\n",
    "и так далее;\n",
    "- middle_avg_bill — число с оценкой среднего чека, которое указано только для значений из столбца avg_bill, начинающихся с подстроки «Средний счёт»:\n",
    "- Если в строке указан ценовой диапазон из двух значений, в столбец войдёт медиана этих двух значений.\n",
    "- Если в строке указано одно число — цена без диапазона, то в столбец войдёт это число.\n",
    "- Если значения нет или оно не начинается с подстроки «Средний счёт», то в столбец ничего не войдёт.\n",
    "- middle_coffee_cup — число с оценкой одной чашки капучино, которое указано только для значений из столбца avg_bill, начинающихся с подстроки «Цена одной чашки капучино»:\n",
    "- Если в строке указан ценовой диапазон из двух значений, в столбец войдёт медиана этих двух значений.\n",
    "- Если в строке указано одно число — цена без диапазона, то в столбец войдёт это число.\n",
    "- Если значения нет или оно не начинается с подстроки «Цена одной чашки капучино», то в столбец ничего не войдёт.\n"
   ]
  },
  {
   "cell_type": "markdown",
   "id": "4fecaf95",
   "metadata": {
    "id": "4fecaf95"
   },
   "source": [
    "## 3. Содержимое проекта\n",
    "\n",
    "\n",
    "1. Загрузка данных и знакомство с ними.\n",
    "2. Предобработка данных.\n",
    "3. Исследовательский анализ данных.\n",
    "4. Итоговые выводы\n"
   ]
  },
  {
   "cell_type": "markdown",
   "id": "6f7d21d6",
   "metadata": {
    "id": "6f7d21d6"
   },
   "source": [
    "## 4. Загрузка данных и знакомство с ними\n"
   ]
  },
  {
   "cell_type": "code",
   "execution_count": 6,
   "id": "84b54580",
   "metadata": {},
   "outputs": [
    {
     "name": "stdout",
     "output_type": "stream",
     "text": [
      "Requirement already satisfied: phik in c:\\users\\rusla\\anaconda3\\envs\\practicum\\lib\\site-packages (0.12.5)\n",
      "Requirement already satisfied: numpy>=1.18.0 in c:\\users\\rusla\\anaconda3\\envs\\practicum\\lib\\site-packages (from phik) (1.20.1)\n",
      "Requirement already satisfied: scipy>=1.5.2 in c:\\users\\rusla\\anaconda3\\envs\\practicum\\lib\\site-packages (from phik) (1.8.0)\n",
      "Requirement already satisfied: pandas>=0.25.1 in c:\\users\\rusla\\anaconda3\\envs\\practicum\\lib\\site-packages (from phik) (1.2.4)\n",
      "Requirement already satisfied: matplotlib>=2.2.3 in c:\\users\\rusla\\anaconda3\\envs\\practicum\\lib\\site-packages (from phik) (3.3.4)\n",
      "Requirement already satisfied: joblib>=0.14.1 in c:\\users\\rusla\\anaconda3\\envs\\practicum\\lib\\site-packages (from phik) (1.4.2)\n",
      "Requirement already satisfied: cycler>=0.10 in c:\\users\\rusla\\anaconda3\\envs\\practicum\\lib\\site-packages (from matplotlib>=2.2.3->phik) (0.12.1)\n",
      "Requirement already satisfied: kiwisolver>=1.0.1 in c:\\users\\rusla\\anaconda3\\envs\\practicum\\lib\\site-packages (from matplotlib>=2.2.3->phik) (1.4.7)\n",
      "Requirement already satisfied: pillow>=6.2.0 in c:\\users\\rusla\\anaconda3\\envs\\practicum\\lib\\site-packages (from matplotlib>=2.2.3->phik) (11.1.0)\n",
      "Requirement already satisfied: pyparsing!=2.0.4,!=2.1.2,!=2.1.6,>=2.0.3 in c:\\users\\rusla\\anaconda3\\envs\\practicum\\lib\\site-packages (from matplotlib>=2.2.3->phik) (3.2.3)\n",
      "Requirement already satisfied: python-dateutil>=2.1 in c:\\users\\rusla\\anaconda3\\envs\\practicum\\lib\\site-packages (from matplotlib>=2.2.3->phik) (2.9.0.post0)\n",
      "Requirement already satisfied: pytz>=2017.3 in c:\\users\\rusla\\anaconda3\\envs\\practicum\\lib\\site-packages (from pandas>=0.25.1->phik) (2025.2)\n",
      "Requirement already satisfied: six>=1.5 in c:\\users\\rusla\\anaconda3\\envs\\practicum\\lib\\site-packages (from python-dateutil>=2.1->matplotlib>=2.2.3->phik) (1.17.0)\n"
     ]
    }
   ],
   "source": [
    "# Для задания по расчету корреляции требуется установить библиотеку\n",
    "# Устанавливаем библиотеку phik\n",
    "!pip install phik -U    "
   ]
  },
  {
   "cell_type": "code",
   "execution_count": 7,
   "id": "05faf34b",
   "metadata": {
    "id": "05faf34b"
   },
   "outputs": [],
   "source": [
    "# Импортируем библиотеки\n",
    "# Загружаем библиотеку для работы с табличнми данными\n",
    "import pandas as pd\n",
    "# Загружаем библиотеки для визуализации данных\n",
    "import matplotlib.pyplot as plt\n",
    "import seaborn as sns\n",
    "# Загружаем библиотеку для работы с регулярными выражениями в тексте\n",
    "import re\n",
    "# Загружаем библиотеку для расчёта коэффициента корреляции phi_k\n",
    "from phik import phik_matrix"
   ]
  },
  {
   "cell_type": "code",
   "execution_count": 8,
   "id": "ce87c1db",
   "metadata": {
    "id": "ce87c1db"
   },
   "outputs": [],
   "source": [
    "# Выгружаем данные в переменные rest_info_df и rest_price_df\n",
    "rest_info_df = pd.read_csv('https://code.s3.yandex.net/datasets/rest_info.csv')\n",
    "rest_price_df = pd.read_csv('https://code.s3.yandex.net/datasets/rest_price.csv')"
   ]
  },
  {
   "cell_type": "markdown",
   "id": "18b5dfff",
   "metadata": {
    "id": "18b5dfff"
   },
   "source": [
    "- Познакомимся с данными `rest_info_df.csv` и изучим общую информацию о них."
   ]
  },
  {
   "cell_type": "code",
   "execution_count": 10,
   "id": "f68a7419",
   "metadata": {
    "id": "f68a7419"
   },
   "outputs": [
    {
     "data": {
      "text/html": [
       "<div>\n",
       "<style scoped>\n",
       "    .dataframe tbody tr th:only-of-type {\n",
       "        vertical-align: middle;\n",
       "    }\n",
       "\n",
       "    .dataframe tbody tr th {\n",
       "        vertical-align: top;\n",
       "    }\n",
       "\n",
       "    .dataframe thead th {\n",
       "        text-align: right;\n",
       "    }\n",
       "</style>\n",
       "<table border=\"1\" class=\"dataframe\">\n",
       "  <thead>\n",
       "    <tr style=\"text-align: right;\">\n",
       "      <th></th>\n",
       "      <th>id</th>\n",
       "      <th>name</th>\n",
       "      <th>category</th>\n",
       "      <th>address</th>\n",
       "      <th>district</th>\n",
       "      <th>hours</th>\n",
       "      <th>rating</th>\n",
       "      <th>chain</th>\n",
       "      <th>seats</th>\n",
       "    </tr>\n",
       "  </thead>\n",
       "  <tbody>\n",
       "    <tr>\n",
       "      <th>0</th>\n",
       "      <td>0c3e3439a8c64ea5bf6ecd6ca6ae19f0</td>\n",
       "      <td>WoWфли</td>\n",
       "      <td>кафе</td>\n",
       "      <td>Москва, улица Дыбенко, 7/1</td>\n",
       "      <td>Северный административный округ</td>\n",
       "      <td>ежедневно, 10:00–22:00</td>\n",
       "      <td>5.0</td>\n",
       "      <td>0</td>\n",
       "      <td>NaN</td>\n",
       "    </tr>\n",
       "    <tr>\n",
       "      <th>1</th>\n",
       "      <td>045780ada3474c57a2112e505d74b633</td>\n",
       "      <td>Четыре комнаты</td>\n",
       "      <td>ресторан</td>\n",
       "      <td>Москва, улица Дыбенко, 36, корп. 1</td>\n",
       "      <td>Северный административный округ</td>\n",
       "      <td>ежедневно, 10:00–22:00</td>\n",
       "      <td>4.5</td>\n",
       "      <td>0</td>\n",
       "      <td>4.0</td>\n",
       "    </tr>\n",
       "    <tr>\n",
       "      <th>2</th>\n",
       "      <td>1070b6b59144425896c65889347fcff6</td>\n",
       "      <td>Хазри</td>\n",
       "      <td>кафе</td>\n",
       "      <td>Москва, Клязьминская улица, 15</td>\n",
       "      <td>Северный административный округ</td>\n",
       "      <td>пн-чт 11:00–02:00; пт,сб 11:00–05:00; вс 11:00...</td>\n",
       "      <td>4.6</td>\n",
       "      <td>0</td>\n",
       "      <td>45.0</td>\n",
       "    </tr>\n",
       "    <tr>\n",
       "      <th>3</th>\n",
       "      <td>03ac7cd772104f65b58b349dc59f03ee</td>\n",
       "      <td>Dormouse Coffee Shop</td>\n",
       "      <td>кофейня</td>\n",
       "      <td>Москва, улица Маршала Федоренко, 12</td>\n",
       "      <td>Северный административный округ</td>\n",
       "      <td>ежедневно, 09:00–22:00</td>\n",
       "      <td>5.0</td>\n",
       "      <td>0</td>\n",
       "      <td>NaN</td>\n",
       "    </tr>\n",
       "    <tr>\n",
       "      <th>4</th>\n",
       "      <td>a163aada139c4c7f87b0b1c0b466a50f</td>\n",
       "      <td>Иль Марко</td>\n",
       "      <td>пиццерия</td>\n",
       "      <td>Москва, Правобережная улица, 1Б</td>\n",
       "      <td>Северный административный округ</td>\n",
       "      <td>ежедневно, 10:00–22:00</td>\n",
       "      <td>5.0</td>\n",
       "      <td>1</td>\n",
       "      <td>148.0</td>\n",
       "    </tr>\n",
       "  </tbody>\n",
       "</table>\n",
       "</div>"
      ],
      "text/plain": [
       "                                 id                  name  category  \\\n",
       "0  0c3e3439a8c64ea5bf6ecd6ca6ae19f0                WoWфли      кафе   \n",
       "1  045780ada3474c57a2112e505d74b633        Четыре комнаты  ресторан   \n",
       "2  1070b6b59144425896c65889347fcff6                 Хазри      кафе   \n",
       "3  03ac7cd772104f65b58b349dc59f03ee  Dormouse Coffee Shop   кофейня   \n",
       "4  a163aada139c4c7f87b0b1c0b466a50f             Иль Марко  пиццерия   \n",
       "\n",
       "                               address                         district  \\\n",
       "0           Москва, улица Дыбенко, 7/1  Северный административный округ   \n",
       "1   Москва, улица Дыбенко, 36, корп. 1  Северный административный округ   \n",
       "2       Москва, Клязьминская улица, 15  Северный административный округ   \n",
       "3  Москва, улица Маршала Федоренко, 12  Северный административный округ   \n",
       "4      Москва, Правобережная улица, 1Б  Северный административный округ   \n",
       "\n",
       "                                               hours  rating  chain  seats  \n",
       "0                             ежедневно, 10:00–22:00     5.0      0    NaN  \n",
       "1                             ежедневно, 10:00–22:00     4.5      0    4.0  \n",
       "2  пн-чт 11:00–02:00; пт,сб 11:00–05:00; вс 11:00...     4.6      0   45.0  \n",
       "3                             ежедневно, 09:00–22:00     5.0      0    NaN  \n",
       "4                             ежедневно, 10:00–22:00     5.0      1  148.0  "
      ]
     },
     "execution_count": 10,
     "metadata": {},
     "output_type": "execute_result"
    }
   ],
   "source": [
    "# Выводим первые строки датафрейма на экран\n",
    "rest_info_df.head()"
   ]
  },
  {
   "cell_type": "code",
   "execution_count": 11,
   "id": "dd415c80",
   "metadata": {
    "id": "dd415c80"
   },
   "outputs": [
    {
     "name": "stdout",
     "output_type": "stream",
     "text": [
      "<class 'pandas.core.frame.DataFrame'>\n",
      "RangeIndex: 8406 entries, 0 to 8405\n",
      "Data columns (total 9 columns):\n",
      " #   Column    Non-Null Count  Dtype  \n",
      "---  ------    --------------  -----  \n",
      " 0   id        8406 non-null   object \n",
      " 1   name      8406 non-null   object \n",
      " 2   category  8406 non-null   object \n",
      " 3   address   8406 non-null   object \n",
      " 4   district  8406 non-null   object \n",
      " 5   hours     7870 non-null   object \n",
      " 6   rating    8406 non-null   float64\n",
      " 7   chain     8406 non-null   int64  \n",
      " 8   seats     4795 non-null   float64\n",
      "dtypes: float64(2), int64(1), object(6)\n",
      "memory usage: 591.2+ KB\n"
     ]
    }
   ],
   "source": [
    "# Выводим типы данных и пропуски\n",
    "rest_info_df.info()"
   ]
  },
  {
   "cell_type": "markdown",
   "id": "0260dfae-12c8-4c6d-98b2-36f98023de35",
   "metadata": {},
   "source": [
    "- Познакомимся с данными `rest_price_df.csv` и изучим общую информацию о них."
   ]
  },
  {
   "cell_type": "code",
   "execution_count": 13,
   "id": "39d772af-6412-44c9-a289-ee69a5dd2ec0",
   "metadata": {},
   "outputs": [
    {
     "data": {
      "text/html": [
       "<div>\n",
       "<style scoped>\n",
       "    .dataframe tbody tr th:only-of-type {\n",
       "        vertical-align: middle;\n",
       "    }\n",
       "\n",
       "    .dataframe tbody tr th {\n",
       "        vertical-align: top;\n",
       "    }\n",
       "\n",
       "    .dataframe thead th {\n",
       "        text-align: right;\n",
       "    }\n",
       "</style>\n",
       "<table border=\"1\" class=\"dataframe\">\n",
       "  <thead>\n",
       "    <tr style=\"text-align: right;\">\n",
       "      <th></th>\n",
       "      <th>id</th>\n",
       "      <th>price</th>\n",
       "      <th>avg_bill</th>\n",
       "      <th>middle_avg_bill</th>\n",
       "      <th>middle_coffee_cup</th>\n",
       "    </tr>\n",
       "  </thead>\n",
       "  <tbody>\n",
       "    <tr>\n",
       "      <th>0</th>\n",
       "      <td>045780ada3474c57a2112e505d74b633</td>\n",
       "      <td>выше среднего</td>\n",
       "      <td>Средний счёт:1500–1600 ₽</td>\n",
       "      <td>1550.0</td>\n",
       "      <td>NaN</td>\n",
       "    </tr>\n",
       "    <tr>\n",
       "      <th>1</th>\n",
       "      <td>1070b6b59144425896c65889347fcff6</td>\n",
       "      <td>средние</td>\n",
       "      <td>Средний счёт:от 1000 ₽</td>\n",
       "      <td>1000.0</td>\n",
       "      <td>NaN</td>\n",
       "    </tr>\n",
       "    <tr>\n",
       "      <th>2</th>\n",
       "      <td>03ac7cd772104f65b58b349dc59f03ee</td>\n",
       "      <td>NaN</td>\n",
       "      <td>Цена чашки капучино:155–185 ₽</td>\n",
       "      <td>NaN</td>\n",
       "      <td>170.0</td>\n",
       "    </tr>\n",
       "    <tr>\n",
       "      <th>3</th>\n",
       "      <td>a163aada139c4c7f87b0b1c0b466a50f</td>\n",
       "      <td>средние</td>\n",
       "      <td>Средний счёт:400–600 ₽</td>\n",
       "      <td>500.0</td>\n",
       "      <td>NaN</td>\n",
       "    </tr>\n",
       "    <tr>\n",
       "      <th>4</th>\n",
       "      <td>8a343546b24e4a499ad96eb7d0797a8a</td>\n",
       "      <td>средние</td>\n",
       "      <td>NaN</td>\n",
       "      <td>NaN</td>\n",
       "      <td>NaN</td>\n",
       "    </tr>\n",
       "  </tbody>\n",
       "</table>\n",
       "</div>"
      ],
      "text/plain": [
       "                                 id          price  \\\n",
       "0  045780ada3474c57a2112e505d74b633  выше среднего   \n",
       "1  1070b6b59144425896c65889347fcff6        средние   \n",
       "2  03ac7cd772104f65b58b349dc59f03ee            NaN   \n",
       "3  a163aada139c4c7f87b0b1c0b466a50f        средние   \n",
       "4  8a343546b24e4a499ad96eb7d0797a8a        средние   \n",
       "\n",
       "                        avg_bill  middle_avg_bill  middle_coffee_cup  \n",
       "0       Средний счёт:1500–1600 ₽           1550.0                NaN  \n",
       "1         Средний счёт:от 1000 ₽           1000.0                NaN  \n",
       "2  Цена чашки капучино:155–185 ₽              NaN              170.0  \n",
       "3         Средний счёт:400–600 ₽            500.0                NaN  \n",
       "4                            NaN              NaN                NaN  "
      ]
     },
     "execution_count": 13,
     "metadata": {},
     "output_type": "execute_result"
    }
   ],
   "source": [
    "rest_price_df.head()"
   ]
  },
  {
   "cell_type": "code",
   "execution_count": 14,
   "id": "077f94f4-421f-4f28-b86c-53e4f9869057",
   "metadata": {},
   "outputs": [
    {
     "name": "stdout",
     "output_type": "stream",
     "text": [
      "<class 'pandas.core.frame.DataFrame'>\n",
      "RangeIndex: 4058 entries, 0 to 4057\n",
      "Data columns (total 5 columns):\n",
      " #   Column             Non-Null Count  Dtype  \n",
      "---  ------             --------------  -----  \n",
      " 0   id                 4058 non-null   object \n",
      " 1   price              3315 non-null   object \n",
      " 2   avg_bill           3816 non-null   object \n",
      " 3   middle_avg_bill    3149 non-null   float64\n",
      " 4   middle_coffee_cup  535 non-null    float64\n",
      "dtypes: float64(2), object(3)\n",
      "memory usage: 158.6+ KB\n"
     ]
    }
   ],
   "source": [
    "rest_price_df.info()"
   ]
  },
  {
   "cell_type": "markdown",
   "id": "2c614a62",
   "metadata": {
    "id": "2c614a62"
   },
   "source": [
    "---\n",
    "\n",
    "### Промежуточный вывод\n"
   ]
  },
  {
   "cell_type": "markdown",
   "id": "7c57757d-2aaf-4def-a55a-9106b3393746",
   "metadata": {
    "id": "3158ad37"
   },
   "source": [
    "Датасет `rest_info_df.csv` содержит 8 столбцов и 8406 строк, в которых представлена информация об заведениях общественно питания.\n",
    "\n",
    "После первичного анализа данных можно сделать следующие выводы:\n",
    "- Названия столбцов корректны, имеют стиль snake case.\n",
    "- Большинство столбцов содержит текст и хранятся в корретном для себя типе данных `object`. \n",
    "- Столбец `chain` представлен целыми числами. Содержит значения 1 или 0 — размерность этих данных можно оптимизировать.\n",
    "- Столбцы rating и seats представлены вещественными числами и хранятся в `float64`. \n",
    "- Столбец rating содержит числа до 5.0, размерность можно оптимизировать. \n",
    "- Пропуски содержатся только в столбцах `hours` и `seats`. Однако следует проверить и другие столбцы: в них могут встречаться значения-индикаторы, которые будут говорить об отсутствии данных.\n",
    "- Судя по первому знакомству с данными, значения в столбцах соответствуют своему описанию.\n"
   ]
  },
  {
   "cell_type": "markdown",
   "id": "435845b2-15eb-418c-914b-f44cb4e8dfbb",
   "metadata": {},
   "source": [
    "Датасет `rest_price_df.csv` содержит 4 столбца и 4058 строк, в которых представлена информация о  среднем чеке в заведениях общественного питания\n",
    "\n",
    "После первичного анализа данных можно сделать следующие выводы:\n",
    "- Количество строк в первом и втором датасетах не соотвествует, примерно у половины заведений нет информации о среднем чеке.\n",
    "- Названия столбцов корректны, имеют стиль snake case.\n",
    "- Столбец `id` имеет тип данных object, что корретно. \n",
    "- Столбец `price` содержит текстовые категории оценки цен и имеет тип данных object, что корректно. Содержит пропуски\n",
    "- Столбец `avg_bill` содержит текстовые данные с диапазоном цен, тип данных object, что корректно. Содержит пропуски\n",
    "- Столбец `middle_coffee_cup` имеет корретный тип данных `float64` и большое количество пропусков, что можно объяснить тем, что не во всех заведениях подают кофе\n",
    "- Cтолбец `middle_avg_bill` имеет корретный тип данных float64. Содержит пропуски\n",
    "- Значения в столбцах соответствуют описанию. \n"
   ]
  },
  {
   "cell_type": "markdown",
   "id": "956e82e2",
   "metadata": {
    "id": "956e82e2"
   },
   "source": [
    "## 5. Предобработка данных\n",
    "\n",
    "- Соединим данные в единый датафрейм, изучим корректность типов данных и при необходимости проведём их преобразование."
   ]
  },
  {
   "cell_type": "markdown",
   "id": "8a8d1491",
   "metadata": {
    "id": "8a8d1491"
   },
   "source": [
    "### Подготовка единого датафрейма\n",
    "\n",
    "- Объединяем данные двух датасетов в один. Чтобы не потерять данные о половине заведений соединяем  rest_info_df и rest_price_df с  помощью left join"
   ]
  },
  {
   "cell_type": "code",
   "execution_count": 20,
   "id": "3408e303",
   "metadata": {
    "id": "3408e303"
   },
   "outputs": [],
   "source": [
    "df = rest_info_df.merge(rest_price_df,on = 'id', how = 'left')"
   ]
  },
  {
   "cell_type": "code",
   "execution_count": 21,
   "id": "5695950b",
   "metadata": {
    "id": "5695950b"
   },
   "outputs": [
    {
     "data": {
      "text/html": [
       "<div>\n",
       "<style scoped>\n",
       "    .dataframe tbody tr th:only-of-type {\n",
       "        vertical-align: middle;\n",
       "    }\n",
       "\n",
       "    .dataframe tbody tr th {\n",
       "        vertical-align: top;\n",
       "    }\n",
       "\n",
       "    .dataframe thead th {\n",
       "        text-align: right;\n",
       "    }\n",
       "</style>\n",
       "<table border=\"1\" class=\"dataframe\">\n",
       "  <thead>\n",
       "    <tr style=\"text-align: right;\">\n",
       "      <th></th>\n",
       "      <th>id</th>\n",
       "      <th>name</th>\n",
       "      <th>category</th>\n",
       "      <th>address</th>\n",
       "      <th>district</th>\n",
       "      <th>hours</th>\n",
       "      <th>rating</th>\n",
       "      <th>chain</th>\n",
       "      <th>seats</th>\n",
       "      <th>price</th>\n",
       "      <th>avg_bill</th>\n",
       "      <th>middle_avg_bill</th>\n",
       "      <th>middle_coffee_cup</th>\n",
       "    </tr>\n",
       "  </thead>\n",
       "  <tbody>\n",
       "    <tr>\n",
       "      <th>0</th>\n",
       "      <td>0c3e3439a8c64ea5bf6ecd6ca6ae19f0</td>\n",
       "      <td>WoWфли</td>\n",
       "      <td>кафе</td>\n",
       "      <td>Москва, улица Дыбенко, 7/1</td>\n",
       "      <td>Северный административный округ</td>\n",
       "      <td>ежедневно, 10:00–22:00</td>\n",
       "      <td>5.0</td>\n",
       "      <td>0</td>\n",
       "      <td>NaN</td>\n",
       "      <td>NaN</td>\n",
       "      <td>NaN</td>\n",
       "      <td>NaN</td>\n",
       "      <td>NaN</td>\n",
       "    </tr>\n",
       "    <tr>\n",
       "      <th>1</th>\n",
       "      <td>045780ada3474c57a2112e505d74b633</td>\n",
       "      <td>Четыре комнаты</td>\n",
       "      <td>ресторан</td>\n",
       "      <td>Москва, улица Дыбенко, 36, корп. 1</td>\n",
       "      <td>Северный административный округ</td>\n",
       "      <td>ежедневно, 10:00–22:00</td>\n",
       "      <td>4.5</td>\n",
       "      <td>0</td>\n",
       "      <td>4.0</td>\n",
       "      <td>выше среднего</td>\n",
       "      <td>Средний счёт:1500–1600 ₽</td>\n",
       "      <td>1550.0</td>\n",
       "      <td>NaN</td>\n",
       "    </tr>\n",
       "    <tr>\n",
       "      <th>2</th>\n",
       "      <td>1070b6b59144425896c65889347fcff6</td>\n",
       "      <td>Хазри</td>\n",
       "      <td>кафе</td>\n",
       "      <td>Москва, Клязьминская улица, 15</td>\n",
       "      <td>Северный административный округ</td>\n",
       "      <td>пн-чт 11:00–02:00; пт,сб 11:00–05:00; вс 11:00...</td>\n",
       "      <td>4.6</td>\n",
       "      <td>0</td>\n",
       "      <td>45.0</td>\n",
       "      <td>средние</td>\n",
       "      <td>Средний счёт:от 1000 ₽</td>\n",
       "      <td>1000.0</td>\n",
       "      <td>NaN</td>\n",
       "    </tr>\n",
       "    <tr>\n",
       "      <th>3</th>\n",
       "      <td>03ac7cd772104f65b58b349dc59f03ee</td>\n",
       "      <td>Dormouse Coffee Shop</td>\n",
       "      <td>кофейня</td>\n",
       "      <td>Москва, улица Маршала Федоренко, 12</td>\n",
       "      <td>Северный административный округ</td>\n",
       "      <td>ежедневно, 09:00–22:00</td>\n",
       "      <td>5.0</td>\n",
       "      <td>0</td>\n",
       "      <td>NaN</td>\n",
       "      <td>NaN</td>\n",
       "      <td>Цена чашки капучино:155–185 ₽</td>\n",
       "      <td>NaN</td>\n",
       "      <td>170.0</td>\n",
       "    </tr>\n",
       "    <tr>\n",
       "      <th>4</th>\n",
       "      <td>a163aada139c4c7f87b0b1c0b466a50f</td>\n",
       "      <td>Иль Марко</td>\n",
       "      <td>пиццерия</td>\n",
       "      <td>Москва, Правобережная улица, 1Б</td>\n",
       "      <td>Северный административный округ</td>\n",
       "      <td>ежедневно, 10:00–22:00</td>\n",
       "      <td>5.0</td>\n",
       "      <td>1</td>\n",
       "      <td>148.0</td>\n",
       "      <td>средние</td>\n",
       "      <td>Средний счёт:400–600 ₽</td>\n",
       "      <td>500.0</td>\n",
       "      <td>NaN</td>\n",
       "    </tr>\n",
       "  </tbody>\n",
       "</table>\n",
       "</div>"
      ],
      "text/plain": [
       "                                 id                  name  category  \\\n",
       "0  0c3e3439a8c64ea5bf6ecd6ca6ae19f0                WoWфли      кафе   \n",
       "1  045780ada3474c57a2112e505d74b633        Четыре комнаты  ресторан   \n",
       "2  1070b6b59144425896c65889347fcff6                 Хазри      кафе   \n",
       "3  03ac7cd772104f65b58b349dc59f03ee  Dormouse Coffee Shop   кофейня   \n",
       "4  a163aada139c4c7f87b0b1c0b466a50f             Иль Марко  пиццерия   \n",
       "\n",
       "                               address                         district  \\\n",
       "0           Москва, улица Дыбенко, 7/1  Северный административный округ   \n",
       "1   Москва, улица Дыбенко, 36, корп. 1  Северный административный округ   \n",
       "2       Москва, Клязьминская улица, 15  Северный административный округ   \n",
       "3  Москва, улица Маршала Федоренко, 12  Северный административный округ   \n",
       "4      Москва, Правобережная улица, 1Б  Северный административный округ   \n",
       "\n",
       "                                               hours  rating  chain  seats  \\\n",
       "0                             ежедневно, 10:00–22:00     5.0      0    NaN   \n",
       "1                             ежедневно, 10:00–22:00     4.5      0    4.0   \n",
       "2  пн-чт 11:00–02:00; пт,сб 11:00–05:00; вс 11:00...     4.6      0   45.0   \n",
       "3                             ежедневно, 09:00–22:00     5.0      0    NaN   \n",
       "4                             ежедневно, 10:00–22:00     5.0      1  148.0   \n",
       "\n",
       "           price                       avg_bill  middle_avg_bill  \\\n",
       "0            NaN                            NaN              NaN   \n",
       "1  выше среднего       Средний счёт:1500–1600 ₽           1550.0   \n",
       "2        средние         Средний счёт:от 1000 ₽           1000.0   \n",
       "3            NaN  Цена чашки капучино:155–185 ₽              NaN   \n",
       "4        средние         Средний счёт:400–600 ₽            500.0   \n",
       "\n",
       "   middle_coffee_cup  \n",
       "0                NaN  \n",
       "1                NaN  \n",
       "2                NaN  \n",
       "3              170.0  \n",
       "4                NaN  "
      ]
     },
     "execution_count": 21,
     "metadata": {},
     "output_type": "execute_result"
    }
   ],
   "source": [
    "#Проверяем\n",
    "df.head()"
   ]
  },
  {
   "cell_type": "code",
   "execution_count": 22,
   "id": "6577c71c",
   "metadata": {
    "id": "6577c71c"
   },
   "outputs": [
    {
     "name": "stdout",
     "output_type": "stream",
     "text": [
      "<class 'pandas.core.frame.DataFrame'>\n",
      "Int64Index: 8406 entries, 0 to 8405\n",
      "Data columns (total 13 columns):\n",
      " #   Column             Non-Null Count  Dtype  \n",
      "---  ------             --------------  -----  \n",
      " 0   id                 8406 non-null   object \n",
      " 1   name               8406 non-null   object \n",
      " 2   category           8406 non-null   object \n",
      " 3   address            8406 non-null   object \n",
      " 4   district           8406 non-null   object \n",
      " 5   hours              7870 non-null   object \n",
      " 6   rating             8406 non-null   float64\n",
      " 7   chain              8406 non-null   int64  \n",
      " 8   seats              4795 non-null   float64\n",
      " 9   price              3315 non-null   object \n",
      " 10  avg_bill           3816 non-null   object \n",
      " 11  middle_avg_bill    3149 non-null   float64\n",
      " 12  middle_coffee_cup  535 non-null    float64\n",
      "dtypes: float64(4), int64(1), object(8)\n",
      "memory usage: 919.4+ KB\n"
     ]
    }
   ],
   "source": [
    "#Проверяем\n",
    "df.info()"
   ]
  },
  {
   "cell_type": "markdown",
   "id": "2d5f3b7e-8710-4518-b3ff-e3ae97d35861",
   "metadata": {},
   "source": [
    "###  Преобразования типов данных"
   ]
  },
  {
   "cell_type": "code",
   "execution_count": 24,
   "id": "023fddc4",
   "metadata": {},
   "outputs": [
    {
     "name": "stdout",
     "output_type": "stream",
     "text": [
      "Количество строк: 8406\n"
     ]
    }
   ],
   "source": [
    "print(f'Количество строк: {len(df)}')"
   ]
  },
  {
   "cell_type": "code",
   "execution_count": 25,
   "id": "67956690",
   "metadata": {
    "id": "67956690"
   },
   "outputs": [],
   "source": [
    "# Можно понизить разрядность числовых данных \n",
    "df_transformed = df.copy()\n",
    "df_transformed['chain'] = pd.to_numeric(df_transformed['chain'], downcast='integer')\n",
    "for column in ['middle_avg_bill','middle_coffee_cup','seats','rating']:\n",
    "    df_transformed[column] = pd.to_numeric(df_transformed[column], downcast='float')"
   ]
  },
  {
   "cell_type": "code",
   "execution_count": 26,
   "id": "b5f2a94d",
   "metadata": {
    "id": "b5f2a94d"
   },
   "outputs": [
    {
     "data": {
      "text/plain": [
       "id                    object\n",
       "name                  object\n",
       "category              object\n",
       "address               object\n",
       "district              object\n",
       "hours                 object\n",
       "rating               float32\n",
       "chain                   int8\n",
       "seats                float32\n",
       "price                 object\n",
       "avg_bill              object\n",
       "middle_avg_bill      float32\n",
       "middle_coffee_cup    float32\n",
       "dtype: object"
      ]
     },
     "execution_count": 26,
     "metadata": {},
     "output_type": "execute_result"
    }
   ],
   "source": [
    "#Проверяем\n",
    "df_transformed.dtypes"
   ]
  },
  {
   "cell_type": "markdown",
   "id": "8653088b-06ff-4bae-8c5d-1c19f69e51ad",
   "metadata": {},
   "source": [
    "###   Проверяем пропуски"
   ]
  },
  {
   "cell_type": "code",
   "execution_count": 28,
   "id": "d207298a",
   "metadata": {},
   "outputs": [
    {
     "data": {
      "text/html": [
       "<style  type=\"text/css\" >\n",
       "#T_6e343_row0_col0,#T_6e343_row0_col1,#T_6e343_row1_col0,#T_6e343_row1_col1,#T_6e343_row2_col0,#T_6e343_row2_col1,#T_6e343_row3_col0,#T_6e343_row3_col1,#T_6e343_row4_col0,#T_6e343_row4_col1,#T_6e343_row6_col0,#T_6e343_row6_col1,#T_6e343_row7_col0,#T_6e343_row7_col1{\n",
       "            background-color:  #3b4cc0;\n",
       "            color:  #f1f1f1;\n",
       "        }#T_6e343_row5_col0,#T_6e343_row5_col1{\n",
       "            background-color:  #4f69d9;\n",
       "            color:  #000000;\n",
       "        }#T_6e343_row8_col0,#T_6e343_row8_col1{\n",
       "            background-color:  #d2dbe8;\n",
       "            color:  #000000;\n",
       "        }#T_6e343_row9_col0,#T_6e343_row9_col1{\n",
       "            background-color:  #f6bea4;\n",
       "            color:  #000000;\n",
       "        }#T_6e343_row10_col0,#T_6e343_row10_col1{\n",
       "            background-color:  #efcebd;\n",
       "            color:  #000000;\n",
       "        }#T_6e343_row11_col0,#T_6e343_row11_col1{\n",
       "            background-color:  #f7b89c;\n",
       "            color:  #000000;\n",
       "        }#T_6e343_row12_col0,#T_6e343_row12_col1{\n",
       "            background-color:  #b40426;\n",
       "            color:  #f1f1f1;\n",
       "        }</style><table id=\"T_6e343_\" ><thead>    <tr>        <th class=\"blank level0\" ></th>        <th class=\"col_heading level0 col0\" >Кол-во пропусков</th>        <th class=\"col_heading level0 col1\" >Доля пропусков</th>    </tr></thead><tbody>\n",
       "                <tr>\n",
       "                        <th id=\"T_6e343_level0_row0\" class=\"row_heading level0 row0\" >id</th>\n",
       "                        <td id=\"T_6e343_row0_col0\" class=\"data row0 col0\" >0</td>\n",
       "                        <td id=\"T_6e343_row0_col1\" class=\"data row0 col1\" >0.000000</td>\n",
       "            </tr>\n",
       "            <tr>\n",
       "                        <th id=\"T_6e343_level0_row1\" class=\"row_heading level0 row1\" >name</th>\n",
       "                        <td id=\"T_6e343_row1_col0\" class=\"data row1 col0\" >0</td>\n",
       "                        <td id=\"T_6e343_row1_col1\" class=\"data row1 col1\" >0.000000</td>\n",
       "            </tr>\n",
       "            <tr>\n",
       "                        <th id=\"T_6e343_level0_row2\" class=\"row_heading level0 row2\" >category</th>\n",
       "                        <td id=\"T_6e343_row2_col0\" class=\"data row2 col0\" >0</td>\n",
       "                        <td id=\"T_6e343_row2_col1\" class=\"data row2 col1\" >0.000000</td>\n",
       "            </tr>\n",
       "            <tr>\n",
       "                        <th id=\"T_6e343_level0_row3\" class=\"row_heading level0 row3\" >address</th>\n",
       "                        <td id=\"T_6e343_row3_col0\" class=\"data row3 col0\" >0</td>\n",
       "                        <td id=\"T_6e343_row3_col1\" class=\"data row3 col1\" >0.000000</td>\n",
       "            </tr>\n",
       "            <tr>\n",
       "                        <th id=\"T_6e343_level0_row4\" class=\"row_heading level0 row4\" >district</th>\n",
       "                        <td id=\"T_6e343_row4_col0\" class=\"data row4 col0\" >0</td>\n",
       "                        <td id=\"T_6e343_row4_col1\" class=\"data row4 col1\" >0.000000</td>\n",
       "            </tr>\n",
       "            <tr>\n",
       "                        <th id=\"T_6e343_level0_row5\" class=\"row_heading level0 row5\" >hours</th>\n",
       "                        <td id=\"T_6e343_row5_col0\" class=\"data row5 col0\" >536</td>\n",
       "                        <td id=\"T_6e343_row5_col1\" class=\"data row5 col1\" >0.063800</td>\n",
       "            </tr>\n",
       "            <tr>\n",
       "                        <th id=\"T_6e343_level0_row6\" class=\"row_heading level0 row6\" >rating</th>\n",
       "                        <td id=\"T_6e343_row6_col0\" class=\"data row6 col0\" >0</td>\n",
       "                        <td id=\"T_6e343_row6_col1\" class=\"data row6 col1\" >0.000000</td>\n",
       "            </tr>\n",
       "            <tr>\n",
       "                        <th id=\"T_6e343_level0_row7\" class=\"row_heading level0 row7\" >chain</th>\n",
       "                        <td id=\"T_6e343_row7_col0\" class=\"data row7 col0\" >0</td>\n",
       "                        <td id=\"T_6e343_row7_col1\" class=\"data row7 col1\" >0.000000</td>\n",
       "            </tr>\n",
       "            <tr>\n",
       "                        <th id=\"T_6e343_level0_row8\" class=\"row_heading level0 row8\" >seats</th>\n",
       "                        <td id=\"T_6e343_row8_col0\" class=\"data row8 col0\" >3611</td>\n",
       "                        <td id=\"T_6e343_row8_col1\" class=\"data row8 col1\" >0.429600</td>\n",
       "            </tr>\n",
       "            <tr>\n",
       "                        <th id=\"T_6e343_level0_row9\" class=\"row_heading level0 row9\" >price</th>\n",
       "                        <td id=\"T_6e343_row9_col0\" class=\"data row9 col0\" >5091</td>\n",
       "                        <td id=\"T_6e343_row9_col1\" class=\"data row9 col1\" >0.605600</td>\n",
       "            </tr>\n",
       "            <tr>\n",
       "                        <th id=\"T_6e343_level0_row10\" class=\"row_heading level0 row10\" >avg_bill</th>\n",
       "                        <td id=\"T_6e343_row10_col0\" class=\"data row10 col0\" >4590</td>\n",
       "                        <td id=\"T_6e343_row10_col1\" class=\"data row10 col1\" >0.546000</td>\n",
       "            </tr>\n",
       "            <tr>\n",
       "                        <th id=\"T_6e343_level0_row11\" class=\"row_heading level0 row11\" >middle_avg_bill</th>\n",
       "                        <td id=\"T_6e343_row11_col0\" class=\"data row11 col0\" >5257</td>\n",
       "                        <td id=\"T_6e343_row11_col1\" class=\"data row11 col1\" >0.625400</td>\n",
       "            </tr>\n",
       "            <tr>\n",
       "                        <th id=\"T_6e343_level0_row12\" class=\"row_heading level0 row12\" >middle_coffee_cup</th>\n",
       "                        <td id=\"T_6e343_row12_col0\" class=\"data row12 col0\" >7871</td>\n",
       "                        <td id=\"T_6e343_row12_col1\" class=\"data row12 col1\" >0.936400</td>\n",
       "            </tr>\n",
       "    </tbody></table>"
      ],
      "text/plain": [
       "<pandas.io.formats.style.Styler at 0x12188a342e0>"
      ]
     },
     "execution_count": 28,
     "metadata": {},
     "output_type": "execute_result"
    }
   ],
   "source": [
    "# Выводим пропуски в абсолютных и относительных значениях\n",
    "temp1 = df_transformed.copy()           # Делаем копию текущего датасета\n",
    "missing = (pd.DataFrame({'Кол-во пропусков': temp1.isnull().sum(), 'Доля пропусков': temp1.isnull().mean().round(4)})\n",
    "           .style.background_gradient(cmap='coolwarm'))\n",
    "missing"
   ]
  },
  {
   "cell_type": "markdown",
   "id": "6e46a442-a4f2-44bb-9fd5-0b5a7fdce322",
   "metadata": {
    "id": "d9e7c358"
   },
   "source": [
    "- Столбец hours содержит 536 пропусков - 6% данных. Количество пропусков достаточно большое, чтобы их удалять. \n",
    "- Столбец seats содержит 3611 пропусков - 43% данных, почти половина строк.\n",
    "- Столбцы price, avg_bill, middle_avg_bill  содержат больше половины пропусков. Как я писал выше, второй датасет с информацией о среднем чеке соответсвует только половине заведений из первого датасета. \n",
    "- Столбец middle_coffee_cup 94% пропусков. Часть пропусков может объясняться тем, что не все заведения продают кофе. \n",
    "\n",
    "В описании данных говорится, что информация, размещённая в сервисе Яндекс Бизнес, могла быть добавлена владельцами бизнеса или найдена в общедоступных источниках. В Яндекс Картах также информация заполняется владельцами или пользователями карт.  В итоге:\n",
    "- Большая часть пропусков может быть вызвана тем, что владельцы заведения не заводили аккаунт в Яндекс Бизнес и соответсвенно не покупали в нём рекламу, поэтому они не заполняли сведения о своём заведении. Но при этом часть информации могла быть заполнена из общедоступных источников. \n",
    "- Некоторые заведения были не очень популярны или не имели своего собственного сайта, откуда можно было бы взять справочную информацию, поэтому данные об этих заведениях содержат пропуски.\n",
    "- Часть владельцев заведений не пожелала заполнять информацию. Например, количество посадочных мест не заполнялось, чтобы скрыть информацию о заведении для конкурентов.\n",
    "- Я бы отнес пропуски в столбцах к категории MNAR — неслучайные пропуски, связанные с данными, которых нет в наборе."
   ]
  },
  {
   "cell_type": "markdown",
   "id": "b198ec13-ea99-4a8e-8a0c-1f10a07e71b4",
   "metadata": {},
   "source": [
    "###  Проверяем категориальные данные"
   ]
  },
  {
   "cell_type": "markdown",
   "id": "47935407-fb65-4bf2-93a7-b7a08451a37f",
   "metadata": {},
   "source": [
    "Далее проверим, встречаются ли в данных значения-индикаторы, которые можно рассматривать как пропуски. Проверяем категориальные данные"
   ]
  },
  {
   "cell_type": "code",
   "execution_count": 32,
   "id": "0769b681",
   "metadata": {
    "id": "0769b681"
   },
   "outputs": [
    {
     "name": "stdout",
     "output_type": "stream",
     "text": [
      "Уникальные значения в столбце category:\n",
      "['бар,паб' 'булочная' 'быстрое питание' 'кафе' 'кофейня' 'пиццерия'\n",
      " 'ресторан' 'столовая']\n",
      "\n",
      "Уникальные значения в столбце district:\n",
      "['Восточный административный округ' 'Западный административный округ'\n",
      " 'Северный административный округ'\n",
      " 'Северо-Восточный административный округ'\n",
      " 'Северо-Западный административный округ'\n",
      " 'Центральный административный округ'\n",
      " 'Юго-Восточный административный округ'\n",
      " 'Юго-Западный административный округ' 'Южный административный округ']\n",
      "\n",
      "Уникальные значения в столбце chain:\n",
      "[0 1]\n",
      "\n"
     ]
    }
   ],
   "source": [
    "for column in ['category', 'district', 'chain']:\n",
    "    print(f'Уникальные значения в столбце {column}:')\n",
    "    print(df_transformed[column].sort_values().unique())\n",
    "    print()"
   ]
  },
  {
   "cell_type": "markdown",
   "id": "6049c08c-2609-40e7-bc1a-285478b39c78",
   "metadata": {},
   "source": [
    "Все значения выглядят корректными. Теперь посмотрим на текстовые данные"
   ]
  },
  {
   "cell_type": "code",
   "execution_count": 34,
   "id": "95b15cd0",
   "metadata": {
    "id": "95b15cd0"
   },
   "outputs": [
    {
     "name": "stdout",
     "output_type": "stream",
     "text": [
      "Уникальные значения в столбце name:\n",
      "['#КешбэкКафе' '+39 Pizzeria Mozzarella bar' '1 Этаж' ... 'Ясно' 'Яуза'\n",
      " 'ночной Баку']\n",
      "\n",
      "Уникальные значения в столбце address:\n",
      "['Москва, 1-й Автозаводский проезд, 5'\n",
      " 'Москва, 1-й Балтийский переулок, 3/25'\n",
      " 'Москва, 1-й Варшавский проезд, 1Ас9' ...\n",
      " 'Москва, шоссе Энтузиастов, 86А, корп. 3' 'Москва, шоссе Энтузиастов, с2'\n",
      " 'Москва, № 7']\n",
      "\n",
      "Уникальные значения в столбце hours:\n",
      "['Нет информации'\n",
      " 'вт 08:30–17:00; ср,чт 12:00–20:30; пт 08:30–17:00; сб 09:00–16:30'\n",
      " 'вт 13:00–21:00; ср 11:00–20:00; чт 13:00–21:00; пт-вс 11:00–20:00' ...\n",
      " 'чт круглосуточно, перерыв 10:00–20:00; сб круглосуточно'\n",
      " 'чт-вс 20:00–06:00' nan]\n",
      "\n"
     ]
    }
   ],
   "source": [
    "for column in ['name', 'address','hours']:\n",
    "    print(f'Уникальные значения в столбце {column}:')\n",
    "    print(df_transformed[column].sort_values().unique())\n",
    "    print()"
   ]
  },
  {
   "cell_type": "markdown",
   "id": "86d9d6d8-fe3a-4529-a780-f003c506e68e",
   "metadata": {},
   "source": [
    "###  Проверяем дубликаты"
   ]
  },
  {
   "cell_type": "markdown",
   "id": "72e7a422-728b-4a47-acdf-6b06959f21cc",
   "metadata": {},
   "source": [
    "Проверим данные на наличие явных и неявных дубликатов. Начнём с полных дубликатов:"
   ]
  },
  {
   "cell_type": "code",
   "execution_count": 37,
   "id": "b52bae9a",
   "metadata": {
    "id": "b52bae9a"
   },
   "outputs": [
    {
     "data": {
      "text/plain": [
       "0"
      ]
     },
     "execution_count": 37,
     "metadata": {},
     "output_type": "execute_result"
    }
   ],
   "source": [
    "# Проверяем полные дубликаты в датафрейме df\n",
    "df_transformed.duplicated().sum()"
   ]
  },
  {
   "cell_type": "markdown",
   "id": "a95c11dd-65e4-42fd-9181-f0819f8728c1",
   "metadata": {},
   "source": [
    "Проверим неявные дубликаты — значения по `id` клиентов должны быть уникальными"
   ]
  },
  {
   "cell_type": "code",
   "execution_count": 39,
   "id": "fcaf86eb-f6c0-42a4-a093-bdf0b6f074bb",
   "metadata": {
    "scrolled": true
   },
   "outputs": [
    {
     "data": {
      "text/plain": [
       "0"
      ]
     },
     "execution_count": 39,
     "metadata": {},
     "output_type": "execute_result"
    }
   ],
   "source": [
    "# Проверяем неявные дубликаты в датафрейме df\n",
    "df_transformed.duplicated(subset='id').sum()"
   ]
  },
  {
   "cell_type": "markdown",
   "id": "62424a12-b66d-4260-96e3-9cc6a3b0db00",
   "metadata": {},
   "source": [
    "Дубликаты не обнаружены"
   ]
  },
  {
   "cell_type": "markdown",
   "id": "df6e21c2-6195-4d67-8d1d-f26488bcc3bc",
   "metadata": {},
   "source": [
    "Для поиска неявных дубликатов в столбцах `address`, `name` нужно нормализовать данные к нижнему регистру, удалить конечные пробелы  и некоторые другие символы "
   ]
  },
  {
   "cell_type": "code",
   "execution_count": 42,
   "id": "de832efa-a1d1-4bcc-80ac-7234613c92fa",
   "metadata": {},
   "outputs": [
    {
     "name": "stdout",
     "output_type": "stream",
     "text": [
      "0                     WoWфли\n",
      "1             Четыре комнаты\n",
      "2                      Хазри\n",
      "3       Dormouse Coffee Shop\n",
      "4                  Иль Марко\n",
      "                ...         \n",
      "8401              Суши Мания\n",
      "8402               Миславнес\n",
      "8403                 Самовар\n",
      "8404            Чайхана Sabr\n",
      "8405              Kebab Time\n",
      "Name: name, Length: 8406, dtype: object\n",
      "0                       Москва, улица Дыбенко, 7/1\n",
      "1               Москва, улица Дыбенко, 36, корп. 1\n",
      "2                   Москва, Клязьминская улица, 15\n",
      "3              Москва, улица Маршала Федоренко, 12\n",
      "4                  Москва, Правобережная улица, 1Б\n",
      "                           ...                    \n",
      "8401                 Москва, Профсоюзная улица, 56\n",
      "8402    Москва, Пролетарский проспект, 19, корп. 1\n",
      "8403        Москва, Люблинская улица, 112А, стр. 1\n",
      "8404        Москва, Люблинская улица, 112А, стр. 1\n",
      "8405                Москва, Россошанский проезд, 6\n",
      "Name: address, Length: 8406, dtype: object\n"
     ]
    }
   ],
   "source": [
    "# Так выглядят данные в столбцах\n",
    "# Есть пробелы и заглавные буквы\n",
    "print(df_transformed['name'])\n",
    "print(df_transformed['address'])"
   ]
  },
  {
   "cell_type": "code",
   "execution_count": 43,
   "id": "290edd32-94b6-4b7f-a73a-37bd1a0a9b39",
   "metadata": {},
   "outputs": [],
   "source": [
    "#Пишем функцию для нормализации текста в столбцах\n",
    "def to_snake_case_improved(text):\n",
    "   \n",
    "    \n",
    "    if not isinstance(text, str):\n",
    "        text = str(text)\n",
    "\n",
    "    # Шаг 1: Замена CamelCase на snake_case \n",
    "    s1 = re.sub('(.)([A-Z][a-z]+)', r'\\1_\\2', text)\n",
    "    s2 = re.sub('([a-z0-9])([A-Z])', r'\\1_\\2', s1)\n",
    "\n",
    "    # Шаг 2: Замена пробелов и некоторых спец. символов на подчеркивания\n",
    "    s3 = re.sub(r\"[\\s\\-+!@#$%^&*()=`~?/.,<>;':\\\"]+\", '_', s2)\n",
    "\n",
    "    # Шаг 3: Удаление повторяющихся подчеркиваний\n",
    "    s4 = re.sub(r\"_+\", '_', s3)\n",
    "\n",
    "    # Шаг 4: Удаление подчеркиваний в начале и конце строки\n",
    "    s5 = s4.strip('_')\n",
    "\n",
    "    return s5.lower()\n",
    "\n",
    "def column_to_snake_case_improved(df, column_name):\n",
    "\n",
    "    if column_name not in df.columns:\n",
    "        raise ValueError(f\"Столбец '{column_name}' не найден в DataFrame.\")\n",
    "\n",
    "    df_transformed[column_name] =df_transformed[column_name].apply(to_snake_case_improved)\n",
    "    return df_transformed\n"
   ]
  },
  {
   "cell_type": "code",
   "execution_count": 44,
   "id": "6801ea6e-8183-4b9d-bb10-b61ac29f776b",
   "metadata": {},
   "outputs": [
    {
     "name": "stdout",
     "output_type": "stream",
     "text": [
      "0                    wo_wфли\n",
      "1             четыре_комнаты\n",
      "2                      хазри\n",
      "3       dormouse_coffee_shop\n",
      "4                  иль_марко\n",
      "                ...         \n",
      "8401              суши_мания\n",
      "8402               миславнес\n",
      "8403                 самовар\n",
      "8404            чайхана_sabr\n",
      "8405              kebab_time\n",
      "Name: name, Length: 8406, dtype: object\n"
     ]
    }
   ],
   "source": [
    "# Нормализуем текст в столбце 'name' и проверяем\n",
    "filtered_df = column_to_snake_case_improved(df_transformed, 'name')\n",
    "print(filtered_df['name'])"
   ]
  },
  {
   "cell_type": "code",
   "execution_count": 45,
   "id": "d6ef3124-f15c-401c-9471-7af2c3213c5d",
   "metadata": {},
   "outputs": [
    {
     "name": "stdout",
     "output_type": "stream",
     "text": [
      "0                     москва_улица_дыбенко_7_1\n",
      "1               москва_улица_дыбенко_36_корп_1\n",
      "2                 москва_клязьминская_улица_15\n",
      "3            москва_улица_маршала_федоренко_12\n",
      "4                москва_правобережная_улица_1б\n",
      "                         ...                  \n",
      "8401               москва_профсоюзная_улица_56\n",
      "8402    москва_пролетарский_проспект_19_корп_1\n",
      "8403        москва_люблинская_улица_112а_стр_1\n",
      "8404        москва_люблинская_улица_112а_стр_1\n",
      "8405              москва_россошанский_проезд_6\n",
      "Name: address, Length: 8406, dtype: object\n"
     ]
    }
   ],
   "source": [
    "# Нормализуем текст в столбце 'address' и проверяем\n",
    "filtered_df = column_to_snake_case_improved(df_transformed, 'address')\n",
    "print(filtered_df['address'])"
   ]
  },
  {
   "cell_type": "code",
   "execution_count": 46,
   "id": "0f3bbf1e-2487-4d87-bd36-aaeaa8b4fdaf",
   "metadata": {},
   "outputs": [
    {
     "name": "stdout",
     "output_type": "stream",
     "text": [
      "                                    id                       name  category  \\\n",
      "189   072032ce16dc47bfbc63b672c75bd371                       кафе      кафе   \n",
      "215   897ddbc6746c4388b19dc8a9fcdbb488                       кафе      кафе   \n",
      "599   be007021c2a44e2f9488f7b3174d1a2b            в_парке_вкуснее      кафе   \n",
      "600   82ea6220bb4e4ffe83bfdf1dd7b4d556            в_парке_вкуснее   кофейня   \n",
      "1430  62608690e9cc464fbcd980cfd552e334                  more_poke  ресторан   \n",
      "1511  a69f018d5c064873a3b491b0121bc1b4                  more_poke  ресторан   \n",
      "2211  c6ef39ae8a8c483d8f9a6531bc386a2c  раковарня_клешни_и_хвосты  ресторан   \n",
      "2420  aba1de7ad7d64ac0a3f8684bda29d905  раковарня_клешни_и_хвосты   бар,паб   \n",
      "3091  3c2a73ea79a04be48858fab3685f2f37            хлеб_да_выпечка  булочная   \n",
      "3109  d3116844e4e048f99614eb30be3214e0            хлеб_да_выпечка      кафе   \n",
      "\n",
      "                                                address  \\\n",
      "189                         москва_парк_ангарские_пруды   \n",
      "215                         москва_парк_ангарские_пруды   \n",
      "599   москва_северный_административный_округ_район_л...   \n",
      "600   москва_северный_административный_округ_район_л...   \n",
      "1430                москва_волоколамское_шоссе_11_стр_2   \n",
      "1511                москва_волоколамское_шоссе_11_стр_2   \n",
      "2211                           москва_проспект_мира_118   \n",
      "2420                           москва_проспект_мира_118   \n",
      "3091                          москва_ярцевская_улица_19   \n",
      "3109                          москва_ярцевская_улица_19   \n",
      "\n",
      "                                     district  \\\n",
      "189           Северный административный округ   \n",
      "215           Северный административный округ   \n",
      "599           Северный административный округ   \n",
      "600           Северный административный округ   \n",
      "1430          Северный административный округ   \n",
      "1511          Северный административный округ   \n",
      "2211  Северо-Восточный административный округ   \n",
      "2420  Северо-Восточный административный округ   \n",
      "3091          Западный административный округ   \n",
      "3109          Западный административный округ   \n",
      "\n",
      "                                                  hours  rating  chain  seats  \\\n",
      "189                              ежедневно, 09:00–23:00     3.2      0    NaN   \n",
      "215                              ежедневно, 10:00–22:00     3.2      0    NaN   \n",
      "599                              ежедневно, 10:00–21:00     2.2      0    NaN   \n",
      "600                              ежедневно, 10:00–21:00     2.2      1    NaN   \n",
      "1430                             ежедневно, 09:00–21:00     4.2      0  188.0   \n",
      "1511  пн-чт 09:00–18:00; пт,сб 09:00–21:00; вс 09:00...     4.2      1  188.0   \n",
      "2211                             ежедневно, 12:00–00:00     4.4      0  150.0   \n",
      "2420  пн-чт 12:00–00:00; пт,сб 12:00–01:00; вс 12:00...     4.4      1  150.0   \n",
      "3091                             ежедневно, 09:00–22:00     4.1      1  276.0   \n",
      "3109                                                NaN     4.1      0  276.0   \n",
      "\n",
      "     price avg_bill  middle_avg_bill  middle_coffee_cup  \n",
      "189    NaN      NaN              NaN                NaN  \n",
      "215    NaN      NaN              NaN                NaN  \n",
      "599    NaN      NaN              NaN                NaN  \n",
      "600    NaN      NaN              NaN                NaN  \n",
      "1430   NaN      NaN              NaN                NaN  \n",
      "1511   NaN      NaN              NaN                NaN  \n",
      "2211   NaN      NaN              NaN                NaN  \n",
      "2420   NaN      NaN              NaN                NaN  \n",
      "3091   NaN      NaN              NaN                NaN  \n",
      "3109   NaN      NaN              NaN                NaN  \n"
     ]
    }
   ],
   "source": [
    "duplicates = filtered_df.duplicated(subset=['address', 'name'], keep=False)\n",
    "\n",
    "# Выводим строки, которые являются дубликатами\n",
    "print(filtered_df[duplicates])\n",
    "\n"
   ]
  },
  {
   "cell_type": "code",
   "execution_count": 47,
   "id": "62bfc120-7cf6-40f7-bef0-bafdf1b2cfc7",
   "metadata": {},
   "outputs": [
    {
     "name": "stdout",
     "output_type": "stream",
     "text": [
      "10\n"
     ]
    }
   ],
   "source": [
    "# Чтобы узнать количество дубликатов:\n",
    "print(duplicates.sum())\n",
    "\n",
    "#Чтобы получить DataFrame только с уникальными строками по этим двум колонкам\n",
    "df_unique = filtered_df[~filtered_df.duplicated(subset=['address', 'name'], keep='first')]"
   ]
  },
  {
   "cell_type": "code",
   "execution_count": 48,
   "id": "b6d56b9e-6a1f-4d7e-bef6-9e2647e52e84",
   "metadata": {},
   "outputs": [
    {
     "data": {
      "text/plain": [
       "8401"
      ]
     },
     "execution_count": 48,
     "metadata": {},
     "output_type": "execute_result"
    }
   ],
   "source": [
    "df_unique.shape[0]\n"
   ]
  },
  {
   "cell_type": "markdown",
   "id": "72728f89-8fa9-45c9-a678-59c90a408231",
   "metadata": {},
   "source": [
    "Было удалено 5 строк с неявными дубликатами"
   ]
  },
  {
   "cell_type": "markdown",
   "id": "4c0563f2",
   "metadata": {
    "id": "4c0563f2"
   },
   "source": [
    "- Для дальнейшей работы создаем столбец `is_24_7` с обозначением того, что заведение работает ежедневно и круглосуточно, то есть 24/7:\n",
    "  - логическое значение `True` — если заведение работает ежедневно и круглосуточно;\n",
    "  - логическое значение `False` — в противоположном случае."
   ]
  },
  {
   "cell_type": "code",
   "execution_count": 51,
   "id": "d8a8a963",
   "metadata": {
    "id": "d8a8a963"
   },
   "outputs": [
    {
     "name": "stdout",
     "output_type": "stream",
     "text": [
      "                             address  \\\n",
      "0           москва_улица_дыбенко_7_1   \n",
      "1     москва_улица_дыбенко_36_корп_1   \n",
      "2       москва_клязьминская_улица_15   \n",
      "3  москва_улица_маршала_федоренко_12   \n",
      "4      москва_правобережная_улица_1б   \n",
      "\n",
      "                                               hours is_24_7  \n",
      "0                             ежедневно, 10:00–22:00   False  \n",
      "1                             ежедневно, 10:00–22:00   False  \n",
      "2  пн-чт 11:00–02:00; пт,сб 11:00–05:00; вс 11:00...   False  \n",
      "3                             ежедневно, 09:00–22:00   False  \n",
      "4                             ежедневно, 10:00–22:00   False  \n",
      "False    7629\n",
      "True      730\n",
      "Name: is_24_7, dtype: int64\n"
     ]
    }
   ],
   "source": [
    "def is_open_24_7(hours):\n",
    "    \"\"\"Определяет, работает ли заведение круглосуточно и ежедневно, исходя из строки расписания.\"\"\"\n",
    "    if isinstance(hours, str):  # Проверяем, что hours - строка (не NaN)\n",
    "        hours = hours.lower()  # Приводим к нижнему регистру для упрощения сравнения\n",
    "        if 'круглосуточно' in hours or '24/7' in hours:\n",
    "            if 'ежедневно' in hours or 'каждый день' in hours or 'пн-вс' in hours or 'пн-вск' in hours:\n",
    "                return True\n",
    "        else:\n",
    "            return False\n",
    "    else: # Обработка NaN и других нестроковых значений\n",
    "        return False\n",
    "\n",
    "\n",
    "\n",
    "\n",
    "# Создаем столбец is_24_7\n",
    "df_unique = df_unique.copy()  \n",
    "df_unique['is_24_7'] = df_unique['hours'].apply(is_open_24_7)\n",
    "\n",
    "# Вывод первых нескольких строк DataFrame с новым столбцом\n",
    "print(df_unique[['address', 'hours', 'is_24_7']].head())\n",
    "\n",
    "#Проверка результатов: количество True и False\n",
    "print(df_unique['is_24_7'].value_counts())"
   ]
  },
  {
   "cell_type": "code",
   "execution_count": 52,
   "id": "42d1e685",
   "metadata": {
    "id": "42d1e685"
   },
   "outputs": [
    {
     "data": {
      "text/html": [
       "<div>\n",
       "<style scoped>\n",
       "    .dataframe tbody tr th:only-of-type {\n",
       "        vertical-align: middle;\n",
       "    }\n",
       "\n",
       "    .dataframe tbody tr th {\n",
       "        vertical-align: top;\n",
       "    }\n",
       "\n",
       "    .dataframe thead th {\n",
       "        text-align: right;\n",
       "    }\n",
       "</style>\n",
       "<table border=\"1\" class=\"dataframe\">\n",
       "  <thead>\n",
       "    <tr style=\"text-align: right;\">\n",
       "      <th></th>\n",
       "      <th>id</th>\n",
       "      <th>name</th>\n",
       "      <th>category</th>\n",
       "      <th>address</th>\n",
       "      <th>district</th>\n",
       "      <th>hours</th>\n",
       "      <th>rating</th>\n",
       "      <th>chain</th>\n",
       "      <th>seats</th>\n",
       "      <th>price</th>\n",
       "      <th>avg_bill</th>\n",
       "      <th>middle_avg_bill</th>\n",
       "      <th>middle_coffee_cup</th>\n",
       "      <th>is_24_7</th>\n",
       "    </tr>\n",
       "  </thead>\n",
       "  <tbody>\n",
       "    <tr>\n",
       "      <th>10</th>\n",
       "      <td>ac32978af97641bfacf996e7f5a50ee5</td>\n",
       "      <td>great_room_bar</td>\n",
       "      <td>бар,паб</td>\n",
       "      <td>москва_левобережная_улица_12</td>\n",
       "      <td>Северный административный округ</td>\n",
       "      <td>ежедневно, круглосуточно</td>\n",
       "      <td>4.5</td>\n",
       "      <td>0</td>\n",
       "      <td>102.0</td>\n",
       "      <td>средние</td>\n",
       "      <td>Цена бокала пива:250–350 ₽</td>\n",
       "      <td>NaN</td>\n",
       "      <td>NaN</td>\n",
       "      <td>True</td>\n",
       "    </tr>\n",
       "    <tr>\n",
       "      <th>17</th>\n",
       "      <td>b55465d0869648a295ad1d85ed9b5c4f</td>\n",
       "      <td>чайхана_беш_бармак</td>\n",
       "      <td>ресторан</td>\n",
       "      <td>москва_ленинградское_шоссе_71б_стр_2</td>\n",
       "      <td>Северный административный округ</td>\n",
       "      <td>ежедневно, круглосуточно</td>\n",
       "      <td>4.4</td>\n",
       "      <td>0</td>\n",
       "      <td>96.0</td>\n",
       "      <td>средние</td>\n",
       "      <td>Средний счёт:350–500 ₽</td>\n",
       "      <td>425.0</td>\n",
       "      <td>NaN</td>\n",
       "      <td>True</td>\n",
       "    </tr>\n",
       "    <tr>\n",
       "      <th>19</th>\n",
       "      <td>feec6bedccae44cb877d99c13f9aa5d7</td>\n",
       "      <td>пекарня</td>\n",
       "      <td>булочная</td>\n",
       "      <td>москва_ижорский_проезд_5</td>\n",
       "      <td>Северный административный округ</td>\n",
       "      <td>ежедневно, круглосуточно</td>\n",
       "      <td>4.4</td>\n",
       "      <td>1</td>\n",
       "      <td>NaN</td>\n",
       "      <td>NaN</td>\n",
       "      <td>NaN</td>\n",
       "      <td>NaN</td>\n",
       "      <td>NaN</td>\n",
       "      <td>True</td>\n",
       "    </tr>\n",
       "    <tr>\n",
       "      <th>24</th>\n",
       "      <td>0f5d22f5377340d0a81a9328e6ebdcac</td>\n",
       "      <td>drive_café</td>\n",
       "      <td>кафе</td>\n",
       "      <td>москва_улица_дыбенко_9ас1</td>\n",
       "      <td>Северный административный округ</td>\n",
       "      <td>ежедневно, круглосуточно</td>\n",
       "      <td>4.0</td>\n",
       "      <td>1</td>\n",
       "      <td>NaN</td>\n",
       "      <td>NaN</td>\n",
       "      <td>NaN</td>\n",
       "      <td>NaN</td>\n",
       "      <td>NaN</td>\n",
       "      <td>True</td>\n",
       "    </tr>\n",
       "    <tr>\n",
       "      <th>49</th>\n",
       "      <td>a8bbd74669074068ab44bc567022ee27</td>\n",
       "      <td>2_u_ту_ю</td>\n",
       "      <td>пиццерия</td>\n",
       "      <td>москва_ижорская_улица_8а</td>\n",
       "      <td>Северный административный округ</td>\n",
       "      <td>ежедневно, круглосуточно</td>\n",
       "      <td>2.7</td>\n",
       "      <td>0</td>\n",
       "      <td>NaN</td>\n",
       "      <td>NaN</td>\n",
       "      <td>Средний счёт:900 ₽</td>\n",
       "      <td>900.0</td>\n",
       "      <td>NaN</td>\n",
       "      <td>True</td>\n",
       "    </tr>\n",
       "  </tbody>\n",
       "</table>\n",
       "</div>"
      ],
      "text/plain": [
       "                                  id                name  category  \\\n",
       "10  ac32978af97641bfacf996e7f5a50ee5      great_room_bar   бар,паб   \n",
       "17  b55465d0869648a295ad1d85ed9b5c4f  чайхана_беш_бармак  ресторан   \n",
       "19  feec6bedccae44cb877d99c13f9aa5d7             пекарня  булочная   \n",
       "24  0f5d22f5377340d0a81a9328e6ebdcac          drive_café      кафе   \n",
       "49  a8bbd74669074068ab44bc567022ee27            2_u_ту_ю  пиццерия   \n",
       "\n",
       "                                 address                         district  \\\n",
       "10          москва_левобережная_улица_12  Северный административный округ   \n",
       "17  москва_ленинградское_шоссе_71б_стр_2  Северный административный округ   \n",
       "19              москва_ижорский_проезд_5  Северный административный округ   \n",
       "24             москва_улица_дыбенко_9ас1  Северный административный округ   \n",
       "49              москва_ижорская_улица_8а  Северный административный округ   \n",
       "\n",
       "                       hours  rating  chain  seats    price  \\\n",
       "10  ежедневно, круглосуточно     4.5      0  102.0  средние   \n",
       "17  ежедневно, круглосуточно     4.4      0   96.0  средние   \n",
       "19  ежедневно, круглосуточно     4.4      1    NaN      NaN   \n",
       "24  ежедневно, круглосуточно     4.0      1    NaN      NaN   \n",
       "49  ежедневно, круглосуточно     2.7      0    NaN      NaN   \n",
       "\n",
       "                      avg_bill  middle_avg_bill  middle_coffee_cup is_24_7  \n",
       "10  Цена бокала пива:250–350 ₽              NaN                NaN    True  \n",
       "17      Средний счёт:350–500 ₽            425.0                NaN    True  \n",
       "19                         NaN              NaN                NaN    True  \n",
       "24                         NaN              NaN                NaN    True  \n",
       "49          Средний счёт:900 ₽            900.0                NaN    True  "
      ]
     },
     "execution_count": 52,
     "metadata": {},
     "output_type": "execute_result"
    }
   ],
   "source": [
    "# Проверяем\n",
    "df_unique[df_unique['is_24_7'] == True].head()\n"
   ]
  },
  {
   "cell_type": "markdown",
   "id": "3def5753-681f-4f23-91c8-6dc99184a506",
   "metadata": {
    "id": "61304e83"
   },
   "source": [
    "730 заведений общепита работают ежедневно и круглосуточно"
   ]
  },
  {
   "cell_type": "code",
   "execution_count": 54,
   "id": "a95f3a8c",
   "metadata": {},
   "outputs": [
    {
     "data": {
      "text/plain": [
       "False    7629\n",
       "True      730\n",
       "Name: is_24_7, dtype: int64"
      ]
     },
     "execution_count": 54,
     "metadata": {},
     "output_type": "execute_result"
    }
   ],
   "source": [
    "# Проверяем кол-во круглосуточных заведений\n",
    "df_unique['is_24_7'].value_counts()"
   ]
  },
  {
   "cell_type": "code",
   "execution_count": 55,
   "id": "810e4b9e-79a5-42c5-ae9a-57f969e59847",
   "metadata": {},
   "outputs": [
    {
     "name": "stdout",
     "output_type": "stream",
     "text": [
      "Количество строк: 8406\n",
      "Количество строк после удаления дубликатов: 8401\n",
      "Количество удалённых строк: 5\n",
      "Доля удалённых строк: 0.06%\n"
     ]
    }
   ],
   "source": [
    "#Проверим количество строк после предобработки\n",
    "print(f'Количество строк: {len(df)}')\n",
    "print(f'Количество строк после удаления дубликатов: {len(df_unique)}')\n",
    "deleted_row_count = len(df) - len(df_unique)\n",
    "share_deleted_row_count = round((deleted_row_count/len(df))*100,2)\n",
    "print(f'Количество удалённых строк: {deleted_row_count}')\n",
    "print(f'Доля удалённых строк: {share_deleted_row_count}%')"
   ]
  },
  {
   "cell_type": "markdown",
   "id": "562f30ab",
   "metadata": {
    "id": "562f30ab"
   },
   "source": [
    "---\n",
    "\n",
    "### Промежуточный вывод\n",
    "\n"
   ]
  },
  {
   "cell_type": "markdown",
   "id": "14bbb3b0-6818-4d50-b090-3ada5cedf12f",
   "metadata": {
    "id": "4e587ce1"
   },
   "source": [
    "В результате предобработки данных были выполнены следующие действия:\n",
    "\n",
    "- Понизили разрядность данных в столбцах 'chain','rating'\n",
    "- Изучены пропуски в данных. Пропуски обнаружились в столбцах 'hours' содержит 536 пропусков - 6% данных и  'seats' содержит 3611 пропусков - 43% данных .\n",
    "- Столбцы price, avg_bill, middle_avg_bill  содержат больше половины пропусков. Как я писал выше, второй датасет с информацией о среднем чеке соответсвует только половине заведений из первого датасета. \n",
    "- Столбец middle_coffee_cup 94% пропусков. Часть пропусков может объясняться тем, что не все заведения продают кофе. \n",
    "- Учитывая это количество, пропуски могут отражать особенности заполнения данных владельцами заведений и не являться ошибкой в данных. Поэтому их оставили как есть.\n",
    "- Данные проверили на явные и неявные дупликаты. Обнаружено 5 строк с неявными дубликатами, они были удалены\n",
    "- Добавлен стобец is_24_7 с обозначением того, что заведение работает ежедневно и круглосуточно. Таких 730 заведений"
   ]
  },
  {
   "cell_type": "markdown",
   "id": "6953e84c",
   "metadata": {
    "id": "6953e84c"
   },
   "source": [
    "## 6. Исследовательский анализ данных\n"
   ]
  },
  {
   "cell_type": "markdown",
   "id": "8555d840",
   "metadata": {
    "id": "8555d840"
   },
   "source": [
    "---\n",
    "\n",
    "### Изучаем распределение заведений по категориям\n",
    "\n",
    "Изучим категории заведений представлены в данных. Исследуем количество объектов общественного питания по каждой категории."
   ]
  },
  {
   "cell_type": "code",
   "execution_count": 60,
   "id": "ef2bffe9",
   "metadata": {
    "id": "ef2bffe9"
   },
   "outputs": [
    {
     "name": "stdout",
     "output_type": "stream",
     "text": [
      "Распределение заведений по значениям столбца category:\n"
     ]
    },
    {
     "data": {
      "text/plain": [
       "кафе               2376\n",
       "ресторан           2042\n",
       "кофейня            1412\n",
       "бар,паб             764\n",
       "пиццерия            633\n",
       "быстрое питание     603\n",
       "столовая            315\n",
       "булочная            256\n",
       "Name: category, dtype: int64"
      ]
     },
     "execution_count": 60,
     "metadata": {},
     "output_type": "execute_result"
    }
   ],
   "source": [
    "# Исседуем распределение заведений по значениям столбца category в абсолютных значениях\n",
    "print('Распределение заведений по значениям столбца category:')\n",
    "df_unique['category'].value_counts()"
   ]
  },
  {
   "cell_type": "code",
   "execution_count": 61,
   "id": "09659e67-4423-483c-8299-1edcef9c82fe",
   "metadata": {},
   "outputs": [
    {
     "data": {
      "text/plain": [
       "кафе               0.282823\n",
       "ресторан           0.243066\n",
       "кофейня            0.168075\n",
       "бар,паб            0.090942\n",
       "пиццерия           0.075348\n",
       "быстрое питание    0.071777\n",
       "столовая           0.037496\n",
       "булочная           0.030473\n",
       "Name: category, dtype: float64"
      ]
     },
     "execution_count": 61,
     "metadata": {},
     "output_type": "execute_result"
    }
   ],
   "source": [
    "# и в относительных значениях\n",
    "df_unique['category'].value_counts(normalize=True)"
   ]
  },
  {
   "cell_type": "code",
   "execution_count": 62,
   "id": "71ab5e91",
   "metadata": {
    "id": "71ab5e91"
   },
   "outputs": [
    {
     "data": {
      "image/png": "[encoded data removed]",
      "text/plain": [
       "<Figure size 700x300 with 1 Axes>"
      ]
     },
     "metadata": {},
     "output_type": "display_data"
    }
   ],
   "source": [
    "# Создаём контейнер графика matplotlib и задаём его размер\n",
    "plt.figure(figsize=(7, 3))\n",
    "\n",
    "# Строим линейчатую диаграмму\n",
    "df_unique['category'].value_counts().sort_values().plot(\n",
    "               kind='barh', # Тип графика - линейчатая диаграмма\n",
    "               rot=0, # Градус вращения подписи по оси Х\n",
    "               legend=False, # Выключаем легенду\n",
    "               title=f'Распределение типов заведений'\n",
    ")\n",
    "\n",
    "# Настраиваем оформление графика\n",
    "plt.xlabel('Количество')\n",
    "plt.ylabel('Типы заведений')\n",
    "\n",
    "# Добавляем сетку графика\n",
    "plt.grid()\n",
    "\n",
    "# Выводим график\n",
    "plt.show()"
   ]
  },
  {
   "cell_type": "markdown",
   "id": "077f57b5-221b-461d-9829-fd91901c41f0",
   "metadata": {
    "id": "63360b97"
   },
   "source": [
    "- Самые популярыне виды заведений, это кафе 28%, ресторан 24% и кофейня 16%. Далее по популярности идут бар,паб, пиццерия, кофейня. Самые редкие типы заведений - булочная и столовая.            \n"
   ]
  },
  {
   "cell_type": "markdown",
   "id": "6821e1d0",
   "metadata": {
    "id": "6821e1d0"
   },
   "source": [
    "---\n",
    "\n",
    "### Изучаем распределение заведений по административным округам\n",
    "\n",
    "Исследуем распределение количества заведений по административным районам Москвы, а также отдельно распределение заведений каждой категории в Центральном административном округе Москвы."
   ]
  },
  {
   "cell_type": "code",
   "execution_count": 65,
   "id": "a49b21cc-dfe7-4d3f-897e-fb7b44778387",
   "metadata": {},
   "outputs": [
    {
     "name": "stdout",
     "output_type": "stream",
     "text": [
      "Распределение заведений по административным округам:\n"
     ]
    },
    {
     "data": {
      "text/plain": [
       "Центральный административный округ         2242\n",
       "Северный административный округ             897\n",
       "Южный административный округ                892\n",
       "Северо-Восточный административный округ     890\n",
       "Западный административный округ             850\n",
       "Восточный административный округ            798\n",
       "Юго-Восточный административный округ        714\n",
       "Юго-Западный административный округ         709\n",
       "Северо-Западный административный округ      409\n",
       "Name: district, dtype: int64"
      ]
     },
     "execution_count": 65,
     "metadata": {},
     "output_type": "execute_result"
    }
   ],
   "source": [
    "# Исседуем распределение заведений по значениям столбца district в абсолютных значениях\n",
    "print('Распределение заведений по административным округам:')\n",
    "df_unique['district'].value_counts()"
   ]
  },
  {
   "cell_type": "code",
   "execution_count": 66,
   "id": "694fd1a4-00f3-4f16-a8ae-bd11e4a38623",
   "metadata": {},
   "outputs": [
    {
     "data": {
      "text/plain": [
       "Центральный административный округ         0.266873\n",
       "Северный административный округ            0.106773\n",
       "Южный административный округ               0.106178\n",
       "Северо-Восточный административный округ    0.105940\n",
       "Западный административный округ            0.101178\n",
       "Восточный административный округ           0.094989\n",
       "Юго-Восточный административный округ       0.084990\n",
       "Юго-Западный административный округ        0.084395\n",
       "Северо-Западный административный округ     0.048685\n",
       "Name: district, dtype: float64"
      ]
     },
     "execution_count": 66,
     "metadata": {},
     "output_type": "execute_result"
    }
   ],
   "source": [
    "# и в относительных значениях\n",
    "df_unique['district'].value_counts(normalize=True)"
   ]
  },
  {
   "cell_type": "code",
   "execution_count": 67,
   "id": "e62f31be",
   "metadata": {
    "id": "e62f31be"
   },
   "outputs": [
    {
     "data": {
      "image/png": "[encoded data removed]",
      "text/plain": [
       "<Figure size 700x300 with 1 Axes>"
      ]
     },
     "metadata": {},
     "output_type": "display_data"
    }
   ],
   "source": [
    "# Создаём контейнер графика matplotlib и задаём его размер\n",
    "plt.figure(figsize=(7, 3))\n",
    "\n",
    "# Строим линейчатую диаграмму\n",
    "df_unique['district'].value_counts().sort_values().plot(\n",
    "               kind='barh', # Тип графика - линейчатая диаграмма\n",
    "               rot=0, # Градус вращения подписи по оси Х\n",
    "               legend=False, # Выключаем легенду\n",
    "               title=f'Распределение количества заведений по административным округам'\n",
    ")\n",
    "\n",
    "# Настраиваем оформление графика\n",
    "plt.xlabel('Количество')\n",
    "plt.ylabel('Административный район')\n",
    "\n",
    "# Добавляем сетку графика\n",
    "plt.grid()\n",
    "\n",
    "# Выводим график\n",
    "plt.show()"
   ]
  },
  {
   "cell_type": "markdown",
   "id": "942437fd-9808-4dfb-9d32-d0a0f2176779",
   "metadata": {},
   "source": [
    "- В большинстве округов находится от 700 до 900 заведений. Больше всего заведений, более 2.2 тысяч, в Центральном административном округе. Меньше всего в Северо-Западном административном округе, менее 500."
   ]
  },
  {
   "cell_type": "code",
   "execution_count": 69,
   "id": "59651c2e-a64f-47d9-a523-a8e7eee90c16",
   "metadata": {},
   "outputs": [
    {
     "name": "stdout",
     "output_type": "stream",
     "text": [
      "Распределение заведений по категориям в ЦАО:\n",
      "ресторан           670\n",
      "кафе               464\n",
      "кофейня            428\n",
      "бар,паб            364\n",
      "пиццерия           113\n",
      "быстрое питание     87\n",
      "столовая            66\n",
      "булочная            50\n",
      "Name: category, dtype: int64\n"
     ]
    }
   ],
   "source": [
    "subset_df = df_unique.loc[df_unique['district'] == 'Центральный административный округ']\n",
    "cao = subset_df['category'].value_counts()\n",
    "print('Распределение заведений по категориям в ЦАО:')\n",
    "print(cao)"
   ]
  },
  {
   "cell_type": "code",
   "execution_count": 70,
   "id": "072d4e8f-924d-467a-b312-23090f0a4503",
   "metadata": {},
   "outputs": [
    {
     "name": "stdout",
     "output_type": "stream",
     "text": [
      "ресторан           0.298840\n",
      "кафе               0.206958\n",
      "кофейня            0.190901\n",
      "бар,паб            0.162355\n",
      "пиццерия           0.050401\n",
      "быстрое питание    0.038805\n",
      "столовая           0.029438\n",
      "булочная           0.022302\n",
      "Name: category, dtype: float64\n"
     ]
    }
   ],
   "source": [
    "percent_cao = subset_df['category'].value_counts(normalize=True)\n",
    "print(percent_cao)"
   ]
  },
  {
   "cell_type": "code",
   "execution_count": 71,
   "id": "0a290cd1",
   "metadata": {
    "id": "0a290cd1"
   },
   "outputs": [
    {
     "data": {
      "image/png": "[encoded data removed]",
      "text/plain": [
       "<Figure size 700x300 with 1 Axes>"
      ]
     },
     "metadata": {},
     "output_type": "display_data"
    }
   ],
   "source": [
    "# Создаём контейнер графика matplotlib и задаём его размер\n",
    "plt.figure(figsize=(7, 3))\n",
    "\n",
    "\n",
    "# Строим линейчатую диаграмму с помощью pandas через plot(kind='barh')\n",
    "cao.sort_values().plot(\n",
    "               kind='barh', # Тип графика - линейчатая диаграмма\n",
    "               rot=0, # Градус вращения подписи по оси Х\n",
    "               legend=False, # Выключаем легенду\n",
    "               title=f'Распределение типов заведений в ЦАО'\n",
    ")\n",
    "\n",
    "# Настраиваем оформление графика\n",
    "plt.xlabel('Количество')\n",
    "plt.ylabel('Типы заведений')\n",
    "\n",
    "# Добавляем сетку графика\n",
    "plt.grid()\n",
    "\n",
    "# Выводим график\n",
    "plt.show()"
   ]
  },
  {
   "cell_type": "markdown",
   "id": "5591e618-6c0a-43b2-88c5-67e3ed6f070f",
   "metadata": {
    "id": "41f1654a"
   },
   "source": [
    "- В отличие от общего распределения в ЦАО на первом месте находятся рестораны 30% , а не кафе 21%. Также сравнительно больше баров и пабов 16%."
   ]
  },
  {
   "cell_type": "markdown",
   "id": "7c824f58",
   "metadata": {
    "id": "7c824f58"
   },
   "source": [
    "---\n",
    "\n",
    "### Изучаем распределение сетевых и несетевых заведений\n",
    "\n",
    "Изучим соотношение сетевых и несетевых заведений в целом по всем данным и в разрезе категорий заведения. "
   ]
  },
  {
   "cell_type": "code",
   "execution_count": 74,
   "id": "65651c46-2861-4dc2-9813-54d78d0cc2b4",
   "metadata": {},
   "outputs": [
    {
     "data": {
      "text/plain": [
       "0    5199\n",
       "1    3202\n",
       "Name: chain, dtype: int64"
      ]
     },
     "execution_count": 74,
     "metadata": {},
     "output_type": "execute_result"
    }
   ],
   "source": [
    "df_unique['chain'].value_counts()"
   ]
  },
  {
   "cell_type": "code",
   "execution_count": 75,
   "id": "57cb666c-2b8f-4c6d-a4fc-65d4a062bb57",
   "metadata": {},
   "outputs": [
    {
     "data": {
      "text/plain": [
       "0    0.618855\n",
       "1    0.381145\n",
       "Name: chain, dtype: float64"
      ]
     },
     "execution_count": 75,
     "metadata": {},
     "output_type": "execute_result"
    }
   ],
   "source": [
    "df_unique['chain'].value_counts(normalize=True)"
   ]
  },
  {
   "cell_type": "code",
   "execution_count": 76,
   "id": "ef442d1a",
   "metadata": {
    "id": "ef442d1a"
   },
   "outputs": [
    {
     "data": {
      "image/png": "[encoded data removed]",
      "text/plain": [
       "<Figure size 700x300 with 1 Axes>"
      ]
     },
     "metadata": {},
     "output_type": "display_data"
    }
   ],
   "source": [
    "\n",
    "# Создаём контейнер графика matplotlib и задаём его размер\n",
    "plt.figure(figsize=(7, 3))\n",
    "\n",
    "# Строим столбчатую диаграмму с помощью pandas через plot(kind='bar')\n",
    "df_unique['chain'].value_counts(normalize=True).plot(\n",
    "               kind='bar', # Тип графика - столбчатая диаграмма\n",
    "               rot=0, # Градус вращения подписи по оси Х\n",
    "               legend=False, # Выключаем легенду\n",
    "               title=f'Распределение несетевых и сетевых заведений'\n",
    ")\n",
    "\n",
    "# Настраиваем оформление графика\n",
    "plt.xlabel('Тип заведения')\n",
    "plt.ylabel('Доля заведений')\n",
    "# Добавляем сетку графика\n",
    "plt.grid()\n",
    "\n",
    "# Выводим график\n",
    "plt.show()"
   ]
  },
  {
   "cell_type": "markdown",
   "id": "30fd772a-67db-48cd-adcc-4e960d0074b2",
   "metadata": {
    "id": "0de29fa2"
   },
   "source": [
    "Больше 60 % заведений не являются сетевыми. "
   ]
  },
  {
   "cell_type": "code",
   "execution_count": 78,
   "id": "739fb4c2-20e8-4ccb-a875-e82323f9a4e3",
   "metadata": {},
   "outputs": [
    {
     "data": {
      "text/html": [
       "<div>\n",
       "<style scoped>\n",
       "    .dataframe tbody tr th:only-of-type {\n",
       "        vertical-align: middle;\n",
       "    }\n",
       "\n",
       "    .dataframe tbody tr th {\n",
       "        vertical-align: top;\n",
       "    }\n",
       "\n",
       "    .dataframe thead th {\n",
       "        text-align: right;\n",
       "    }\n",
       "</style>\n",
       "<table border=\"1\" class=\"dataframe\">\n",
       "  <thead>\n",
       "    <tr style=\"text-align: right;\">\n",
       "      <th>chain</th>\n",
       "      <th>0</th>\n",
       "      <th>1</th>\n",
       "    </tr>\n",
       "    <tr>\n",
       "      <th>category</th>\n",
       "      <th></th>\n",
       "      <th></th>\n",
       "    </tr>\n",
       "  </thead>\n",
       "  <tbody>\n",
       "    <tr>\n",
       "      <th>бар,паб</th>\n",
       "      <td>596</td>\n",
       "      <td>168</td>\n",
       "    </tr>\n",
       "    <tr>\n",
       "      <th>булочная</th>\n",
       "      <td>99</td>\n",
       "      <td>157</td>\n",
       "    </tr>\n",
       "    <tr>\n",
       "      <th>быстрое питание</th>\n",
       "      <td>371</td>\n",
       "      <td>232</td>\n",
       "    </tr>\n",
       "    <tr>\n",
       "      <th>кафе</th>\n",
       "      <td>1597</td>\n",
       "      <td>779</td>\n",
       "    </tr>\n",
       "    <tr>\n",
       "      <th>кофейня</th>\n",
       "      <td>693</td>\n",
       "      <td>719</td>\n",
       "    </tr>\n",
       "    <tr>\n",
       "      <th>пиццерия</th>\n",
       "      <td>303</td>\n",
       "      <td>330</td>\n",
       "    </tr>\n",
       "    <tr>\n",
       "      <th>ресторан</th>\n",
       "      <td>1313</td>\n",
       "      <td>729</td>\n",
       "    </tr>\n",
       "    <tr>\n",
       "      <th>столовая</th>\n",
       "      <td>227</td>\n",
       "      <td>88</td>\n",
       "    </tr>\n",
       "  </tbody>\n",
       "</table>\n",
       "</div>"
      ],
      "text/plain": [
       "chain               0    1\n",
       "category                  \n",
       "бар,паб           596  168\n",
       "булочная           99  157\n",
       "быстрое питание   371  232\n",
       "кафе             1597  779\n",
       "кофейня           693  719\n",
       "пиццерия          303  330\n",
       "ресторан         1313  729\n",
       "столовая          227   88"
      ]
     },
     "execution_count": 78,
     "metadata": {},
     "output_type": "execute_result"
    }
   ],
   "source": [
    "# Группируем данные и считаем долю сетевых и несетевых заведений\n",
    "chain_groups = df_unique.groupby('category')['chain'].value_counts().unstack(fill_value=0)\n",
    "chain_groups"
   ]
  },
  {
   "cell_type": "code",
   "execution_count": 79,
   "id": "a139bd72",
   "metadata": {
    "id": "a139bd72"
   },
   "outputs": [
    {
     "data": {
      "image/png": "[encoded data removed]",
      "text/plain": [
       "<Figure size 1000x600 with 1 Axes>"
      ]
     },
     "metadata": {},
     "output_type": "display_data"
    }
   ],
   "source": [
    "# Делаем визуализацию df_grouped с помощью метода plot(kind='bar'....)\n",
    "chain_groups.plot(kind='barh',\n",
    "                title='Количество несетевых и сетевых заведений по типам заведений',\n",
    "                rot=0,\n",
    "                figsize=(10, 6))\n",
    "plt.xlabel('Количество')\n",
    "plt.ylabel('Тип заведения')\n",
    "# Отображаем график\n",
    "plt.show()"
   ]
  },
  {
   "cell_type": "code",
   "execution_count": 80,
   "id": "95171aa5-9d70-4be9-a6f0-a0effac844aa",
   "metadata": {},
   "outputs": [
    {
     "data": {
      "text/plain": [
       "category\n",
       "булочная           0.613281\n",
       "пиццерия           0.521327\n",
       "кофейня            0.509207\n",
       "быстрое питание    0.384743\n",
       "ресторан           0.357003\n",
       "кафе               0.327862\n",
       "столовая           0.279365\n",
       "бар,паб            0.219895\n",
       "Name: Доля сетевых, dtype: float64"
      ]
     },
     "execution_count": 80,
     "metadata": {},
     "output_type": "execute_result"
    }
   ],
   "source": [
    "# Группируем по category и chain, считаем количество\n",
    "category_chain_grouped = df_unique.groupby(['category', 'chain']).size().unstack(fill_value=0)\n",
    "\n",
    "#  Рассчитываем долю сетевых заведений в каждой категории\n",
    "category_chain_grouped['Доля сетевых'] = category_chain_grouped[1] / (category_chain_grouped[0] + category_chain_grouped[1])\n",
    "category_chain_grouped['Доля сетевых'].sort_values(ascending=False)"
   ]
  },
  {
   "cell_type": "code",
   "execution_count": 81,
   "id": "6e20bed4-d259-48a7-b4ff-ee19594c1037",
   "metadata": {},
   "outputs": [
    {
     "data": {
      "image/png": "[encoded data removed]",
      "text/plain": [
       "<Figure size 1200x600 with 1 Axes>"
      ]
     },
     "metadata": {},
     "output_type": "display_data"
    }
   ],
   "source": [
    "#  Строим график\n",
    "category_chain_grouped['Доля сетевых'].sort_values(ascending=False).plot(kind='bar',\n",
    "                                                            figsize=(12, 6),\n",
    "                                                            title='Доля сетевых заведений по категориям')\n",
    "plt.xlabel('Категория заведения')\n",
    "plt.ylabel('Доля сетевых заведений')\n",
    "plt.xticks(rotation=45, ha='right')  # Поворачиваем метки по оси X для читаемости\n",
    "plt.tight_layout() #  Предотвращает обрезание меток по краям графика\n",
    "plt.show()"
   ]
  },
  {
   "cell_type": "markdown",
   "id": "52090866-fecf-4b53-819f-b9d7f6672681",
   "metadata": {},
   "source": [
    "- Количество сетевых заведений превышает количество несетевых  в следующих типах заведений: булочная 61%, пиццерия 52% и кофейня 51% . В остальных типах заведений   несетевых  больше. Меньше всего сетевы заведений среди баров и пабов 22%. "
   ]
  },
  {
   "cell_type": "markdown",
   "id": "5913c3e3",
   "metadata": {
    "id": "5913c3e3"
   },
   "source": [
    "---\n",
    "\n",
    "### Изучаем количество посадочных мест в заведениях\n",
    "\n",
    "Исследуем количество посадочных мест в заведениях. Исследуем данные на предмет аномальных значений или выбросов.\n"
   ]
  },
  {
   "cell_type": "code",
   "execution_count": 84,
   "id": "6cb238d2",
   "metadata": {
    "id": "6cb238d2"
   },
   "outputs": [
    {
     "name": "stdout",
     "output_type": "stream",
     "text": [
      "Статистические показатели столбца seats:\n"
     ]
    },
    {
     "data": {
      "text/plain": [
       "count    4792.000000\n",
       "mean      108.361435\n",
       "std       122.841133\n",
       "min         0.000000\n",
       "25%        40.000000\n",
       "50%        75.000000\n",
       "75%       140.000000\n",
       "max      1288.000000\n",
       "Name: seats, dtype: float64"
      ]
     },
     "execution_count": 84,
     "metadata": {},
     "output_type": "execute_result"
    }
   ],
   "source": [
    "# Изучаем статистические показатели столбца seats\n",
    "print('Статистические показатели столбца seats:')\n",
    "df_unique['seats'].describe()"
   ]
  },
  {
   "cell_type": "markdown",
   "id": "4a3fd7a0-8832-4379-a29c-08bafd32e68c",
   "metadata": {},
   "source": [
    "Минимальное значение 0 и максимальное 1288 являются выбросами. Среднее значение существенно выше, чем медиана, что может говорить о наличии выбросов с высоким значением. Стандартное отклонение говорит о большом разбросе данных. "
   ]
  },
  {
   "cell_type": "code",
   "execution_count": 86,
   "id": "062b55d8",
   "metadata": {
    "id": "062b55d8"
   },
   "outputs": [
    {
     "data": {
      "image/png": "[encoded data removed]",
      "text/plain": [
       "<Figure size 700x300 with 1 Axes>"
      ]
     },
     "metadata": {},
     "output_type": "display_data"
    }
   ],
   "source": [
    "# Создаём контейнер графика matplotlib и задаём его размер\n",
    "plt.figure(figsize=(7, 3))\n",
    "\n",
    "# Строим гистограмму с помощью pandas через plot(kind='hist')\n",
    "df_unique['seats'].plot(\n",
    "                kind='hist', # Тип графика - гистограмма\n",
    "                bins=200, # Устанавливаем количество корзин - всего 200\n",
    "                alpha=0.75,\n",
    "                edgecolor='black',\n",
    "                rot=0, # Градус вращения подписи по оси Х\n",
    ")\n",
    "\n",
    "# Настраиваем оформление графика\n",
    "plt.title('Распределение значений количества посадочных мест')\n",
    "plt.xlabel('Количество посадочных мест')\n",
    "plt.ylabel('Частота')\n",
    "# Добавляем сетку графика\n",
    "plt.grid()\n",
    "\n",
    "# Выводим график\n",
    "plt.show()"
   ]
  },
  {
   "cell_type": "code",
   "execution_count": 87,
   "id": "ceadf25b",
   "metadata": {
    "id": "ceadf25b"
   },
   "outputs": [
    {
     "data": {
      "image/png": "[encoded data removed]",
      "text/plain": [
       "<Figure size 700x200 with 1 Axes>"
      ]
     },
     "metadata": {},
     "output_type": "display_data"
    }
   ],
   "source": [
    "# Создаём контейнер графика matplotlib и задаём его размер\n",
    "plt.figure(figsize=(7, 2))\n",
    "\n",
    "# Строим диаграмму размаха значений в столбце score\n",
    "df_unique.boxplot(column='seats', vert=False)\n",
    "\n",
    "# Добавляем заголовок и метки оси\n",
    "plt.title('Распределение значений количества посадочных мест')\n",
    "plt.xlabel('Количество посадочных мест')\n",
    "\n",
    "# Выводим график\n",
    "plt.show()"
   ]
  },
  {
   "cell_type": "markdown",
   "id": "17fe88e1-70b3-4b7f-829e-a6942a9130b9",
   "metadata": {},
   "source": [
    "- Правоассиметричное распределение с \"длинным\" хвостом высоких значений\n",
    "- Посадочные места со значением 0  относятся к выбросам. Эта категория выбросов может объясняться тем, что некоторые заведения не имеют посадочных мест, например точка с шаурмой. Или 0 это значение - индикатор, которое говорит о пропусках.\n",
    "- Также есть аномально высокие значения. Например, согласно Яндекс Нейро самый большой ресторан Москвы «Галерея художника» имеет 4 зала общей вместимостью 100 - 150 человек и банкетный зал в 500 человек. Большое количество посадочных мест, может быть в банкетных залах, фуд-кортах и заведениях питания при спортивно-концертных комплексах. "
   ]
  },
  {
   "cell_type": "code",
   "execution_count": 89,
   "id": "d5de3f8f-4984-4386-b8c3-0cdbf7f97672",
   "metadata": {},
   "outputs": [
    {
     "name": "stdout",
     "output_type": "stream",
     "text": [
      "                                    id             name  category  \\\n",
      "1326  83575e8d81064584ab791877c9d5389c              нам   бар,паб   \n",
      "1351  9d703f8cdfb7487abbad137d19083ad0    максима_пицца  пиццерия   \n",
      "1355  e925b8a0c4c54f24b5fa008f28ff0482       страдивари  ресторан   \n",
      "1367  0884fb8437f848f98677d3d4b92ae23d         академия  пиццерия   \n",
      "1380  b8e5cece843a4a52851b12ac8e90bdef  север_метрополь   кофейня   \n",
      "\n",
      "                                      address  \\\n",
      "1326   москва_ленинградский_проспект_69_стр_1   \n",
      "1351  москва_ленинградский_проспект_78_корп_1   \n",
      "1355  москва_ленинградский_проспект_77_корп_1   \n",
      "1367  москва_ленинградский_проспект_72_корп_1   \n",
      "1380  москва_ленинградский_проспект_75_корп_1   \n",
      "\n",
      "                             district                                 hours  \\\n",
      "1326  Северный административный округ                ежедневно, 11:00–21:00   \n",
      "1351  Северный административный округ  пн-пт 09:00–00:00; сб,вс 10:00–00:00   \n",
      "1355  Северный административный округ                ежедневно, 11:00–23:00   \n",
      "1367  Северный административный округ  пн-пт 09:00–23:00; сб,вс 11:00–23:00   \n",
      "1380  Северный административный округ                ежедневно, 09:00–21:00   \n",
      "\n",
      "      rating  chain  seats          price                  avg_bill  \\\n",
      "1326     4.2      1  625.0            NaN                       NaN   \n",
      "1351     4.3      0  625.0  выше среднего  Средний счёт:1500–1800 ₽   \n",
      "1355     4.2      1  625.0  выше среднего  Средний счёт:1000–2000 ₽   \n",
      "1367     4.2      1  625.0        средние  Средний счёт:1000–1200 ₽   \n",
      "1380     4.6      1  625.0            NaN                       NaN   \n",
      "\n",
      "      middle_avg_bill  middle_coffee_cup is_24_7  \n",
      "1326              NaN                NaN   False  \n",
      "1351           1650.0                NaN   False  \n",
      "1355           1500.0                NaN   False  \n",
      "1367           1100.0                NaN   False  \n",
      "1380              NaN                NaN   False  \n"
     ]
    }
   ],
   "source": [
    "#Посмотрим подробнее на заведения с высокими значениями\n",
    "print(df_unique[df_unique['seats'] > 500].head())"
   ]
  },
  {
   "cell_type": "code",
   "execution_count": 90,
   "id": "ebd947fe-0fbf-4093-bd1b-ecb19ac5b627",
   "metadata": {},
   "outputs": [
    {
     "name": "stdout",
     "output_type": "stream",
     "text": [
      "seats\n",
      "585.0      2\n",
      "600.0      1\n",
      "625.0     23\n",
      "644.0      2\n",
      "650.0      6\n",
      "660.0      2\n",
      "675.0      1\n",
      "760.0      1\n",
      "920.0      2\n",
      "1040.0     4\n",
      "1200.0     1\n",
      "1288.0    11\n",
      "dtype: int64\n"
     ]
    }
   ],
   "source": [
    "sub_set2 = df_unique[df_unique['seats'] > 500]\n",
    "seats_counts2 = sub_set2.groupby('seats').size()\n",
    "print(seats_counts2)"
   ]
  },
  {
   "cell_type": "markdown",
   "id": "d32f5963-da14-49c6-8b37-9cde7374d8d3",
   "metadata": {},
   "source": [
    "В заведениях с кол-вом мест более 500 есть два значения с наибольшим количеством заведений 625 и 1288. Это могут быть ошибки. Следует отфильтровать данные.  "
   ]
  },
  {
   "cell_type": "code",
   "execution_count": 92,
   "id": "9950c5cf-f365-4038-81d9-c83502963096",
   "metadata": {},
   "outputs": [
    {
     "name": "stdout",
     "output_type": "stream",
     "text": [
      "seats\n",
      "0.0    136\n",
      "1.0      4\n",
      "2.0     15\n",
      "3.0     13\n",
      "4.0     25\n",
      "dtype: int64\n"
     ]
    }
   ],
   "source": [
    "#Теперь посмотрим на аномально низкие значения\n",
    "sub_set3 = df_unique[df_unique['seats'] < 5]\n",
    "seats_counts3 = sub_set3.groupby('seats').size()\n",
    "print(seats_counts3)"
   ]
  },
  {
   "cell_type": "markdown",
   "id": "46e0d658-3dcc-4d42-bbad-56d250a87d69",
   "metadata": {},
   "source": [
    "Большая часть аномально низких значений, 136 заведений имеют 0 кол-во посадочных мест. "
   ]
  },
  {
   "cell_type": "code",
   "execution_count": 94,
   "id": "383be2fc-24b7-4113-8c00-41807a813d4d",
   "metadata": {},
   "outputs": [
    {
     "data": {
      "text/html": [
       "<div>\n",
       "<style scoped>\n",
       "    .dataframe tbody tr th:only-of-type {\n",
       "        vertical-align: middle;\n",
       "    }\n",
       "\n",
       "    .dataframe tbody tr th {\n",
       "        vertical-align: top;\n",
       "    }\n",
       "\n",
       "    .dataframe thead th {\n",
       "        text-align: right;\n",
       "    }\n",
       "</style>\n",
       "<table border=\"1\" class=\"dataframe\">\n",
       "  <thead>\n",
       "    <tr style=\"text-align: right;\">\n",
       "      <th></th>\n",
       "      <th>id</th>\n",
       "      <th>name</th>\n",
       "      <th>category</th>\n",
       "      <th>address</th>\n",
       "      <th>district</th>\n",
       "      <th>hours</th>\n",
       "      <th>rating</th>\n",
       "      <th>chain</th>\n",
       "      <th>seats</th>\n",
       "      <th>price</th>\n",
       "      <th>avg_bill</th>\n",
       "      <th>middle_avg_bill</th>\n",
       "      <th>middle_coffee_cup</th>\n",
       "      <th>is_24_7</th>\n",
       "    </tr>\n",
       "  </thead>\n",
       "  <tbody>\n",
       "    <tr>\n",
       "      <th>84</th>\n",
       "      <td>3793bd736bbb4dd08f734d53bfa57b24</td>\n",
       "      <td>meat_doner_kebab</td>\n",
       "      <td>булочная</td>\n",
       "      <td>москва_улица_лескова_22</td>\n",
       "      <td>Северо-Восточный административный округ</td>\n",
       "      <td>ежедневно, круглосуточно</td>\n",
       "      <td>4.5</td>\n",
       "      <td>0</td>\n",
       "      <td>0.0</td>\n",
       "      <td>NaN</td>\n",
       "      <td>Средний счёт:300 ₽</td>\n",
       "      <td>300.0</td>\n",
       "      <td>NaN</td>\n",
       "      <td>True</td>\n",
       "    </tr>\n",
       "    <tr>\n",
       "      <th>177</th>\n",
       "      <td>3fb68f4204274347b94b5cb397fedce7</td>\n",
       "      <td>арамье</td>\n",
       "      <td>булочная</td>\n",
       "      <td>москва_улица_800_летия_москвы_22_корп_2</td>\n",
       "      <td>Северный административный округ</td>\n",
       "      <td>ежедневно, 09:00–21:00</td>\n",
       "      <td>4.0</td>\n",
       "      <td>1</td>\n",
       "      <td>0.0</td>\n",
       "      <td>NaN</td>\n",
       "      <td>NaN</td>\n",
       "      <td>NaN</td>\n",
       "      <td>NaN</td>\n",
       "      <td>False</td>\n",
       "    </tr>\n",
       "    <tr>\n",
       "      <th>196</th>\n",
       "      <td>bfd0d5a3a91f43e9a43f4a5fe96144f1</td>\n",
       "      <td>донер_шашлык</td>\n",
       "      <td>ресторан</td>\n",
       "      <td>москва_улица_лескова_22</td>\n",
       "      <td>Северо-Восточный административный округ</td>\n",
       "      <td>ежедневно, круглосуточно</td>\n",
       "      <td>4.5</td>\n",
       "      <td>0</td>\n",
       "      <td>0.0</td>\n",
       "      <td>NaN</td>\n",
       "      <td>NaN</td>\n",
       "      <td>NaN</td>\n",
       "      <td>NaN</td>\n",
       "      <td>True</td>\n",
       "    </tr>\n",
       "    <tr>\n",
       "      <th>203</th>\n",
       "      <td>78f050b65d4146ef932b734db72e1e86</td>\n",
       "      <td>тандыр_№_1</td>\n",
       "      <td>кафе</td>\n",
       "      <td>москва_улица_лескова_22г</td>\n",
       "      <td>Северо-Восточный административный округ</td>\n",
       "      <td>ежедневно, круглосуточно</td>\n",
       "      <td>4.0</td>\n",
       "      <td>1</td>\n",
       "      <td>0.0</td>\n",
       "      <td>NaN</td>\n",
       "      <td>NaN</td>\n",
       "      <td>NaN</td>\n",
       "      <td>NaN</td>\n",
       "      <td>True</td>\n",
       "    </tr>\n",
       "    <tr>\n",
       "      <th>211</th>\n",
       "      <td>4636272b73bd40c59c156725492f2c05</td>\n",
       "      <td>неаполитан_пицца</td>\n",
       "      <td>кафе</td>\n",
       "      <td>москва_улица_пришвина_23</td>\n",
       "      <td>Северо-Восточный административный округ</td>\n",
       "      <td>ежедневно, 12:00–23:00</td>\n",
       "      <td>4.3</td>\n",
       "      <td>0</td>\n",
       "      <td>0.0</td>\n",
       "      <td>NaN</td>\n",
       "      <td>NaN</td>\n",
       "      <td>NaN</td>\n",
       "      <td>NaN</td>\n",
       "      <td>False</td>\n",
       "    </tr>\n",
       "  </tbody>\n",
       "</table>\n",
       "</div>"
      ],
      "text/plain": [
       "                                   id              name  category  \\\n",
       "84   3793bd736bbb4dd08f734d53bfa57b24  meat_doner_kebab  булочная   \n",
       "177  3fb68f4204274347b94b5cb397fedce7            арамье  булочная   \n",
       "196  bfd0d5a3a91f43e9a43f4a5fe96144f1      донер_шашлык  ресторан   \n",
       "203  78f050b65d4146ef932b734db72e1e86        тандыр_№_1      кафе   \n",
       "211  4636272b73bd40c59c156725492f2c05  неаполитан_пицца      кафе   \n",
       "\n",
       "                                     address  \\\n",
       "84                   москва_улица_лескова_22   \n",
       "177  москва_улица_800_летия_москвы_22_корп_2   \n",
       "196                  москва_улица_лескова_22   \n",
       "203                 москва_улица_лескова_22г   \n",
       "211                 москва_улица_пришвина_23   \n",
       "\n",
       "                                    district                     hours  \\\n",
       "84   Северо-Восточный административный округ  ежедневно, круглосуточно   \n",
       "177          Северный административный округ    ежедневно, 09:00–21:00   \n",
       "196  Северо-Восточный административный округ  ежедневно, круглосуточно   \n",
       "203  Северо-Восточный административный округ  ежедневно, круглосуточно   \n",
       "211  Северо-Восточный административный округ    ежедневно, 12:00–23:00   \n",
       "\n",
       "     rating  chain  seats price            avg_bill  middle_avg_bill  \\\n",
       "84      4.5      0    0.0   NaN  Средний счёт:300 ₽            300.0   \n",
       "177     4.0      1    0.0   NaN                 NaN              NaN   \n",
       "196     4.5      0    0.0   NaN                 NaN              NaN   \n",
       "203     4.0      1    0.0   NaN                 NaN              NaN   \n",
       "211     4.3      0    0.0   NaN                 NaN              NaN   \n",
       "\n",
       "     middle_coffee_cup is_24_7  \n",
       "84                 NaN    True  \n",
       "177                NaN   False  \n",
       "196                NaN    True  \n",
       "203                NaN    True  \n",
       "211                NaN   False  "
      ]
     },
     "execution_count": 94,
     "metadata": {},
     "output_type": "execute_result"
    }
   ],
   "source": [
    "#Посмотрим подробнее на заведения с нулевыми значениями\n",
    "df_unique[df_unique['seats'] == 0].head()"
   ]
  },
  {
   "cell_type": "markdown",
   "id": "3d578bbc-f8b1-486a-b70c-fc0606d3629b",
   "metadata": {},
   "source": [
    "Действительно, среди них много заведений, которые продают шаурму. Нулевое количество посадочных мест для таких заведений не является ошибкой"
   ]
  },
  {
   "cell_type": "markdown",
   "id": "a681304b-2b63-46fb-9814-ea848eeef861",
   "metadata": {},
   "source": [
    "Учитывая вышеописанное, лучше использовать медиану, а не среднее арифметическое, чтобы избежать искажений. "
   ]
  },
  {
   "cell_type": "code",
   "execution_count": 97,
   "id": "0260ffd9-fab4-4a97-a7ff-be66d2419496",
   "metadata": {},
   "outputs": [
    {
     "data": {
      "text/plain": [
       "category\n",
       "булочная           50.0\n",
       "пиццерия           55.0\n",
       "кафе               60.0\n",
       "быстрое питание    65.0\n",
       "столовая           75.5\n",
       "кофейня            80.0\n",
       "бар,паб            82.0\n",
       "ресторан           86.0\n",
       "Name: seats, dtype: float32"
      ]
     },
     "execution_count": 97,
     "metadata": {},
     "output_type": "execute_result"
    }
   ],
   "source": [
    "# Группируем данные и считаем медианное значение seats\n",
    "median_seats = df_unique.groupby('category')['seats'].median().sort_values()\n",
    "median_seats"
   ]
  },
  {
   "cell_type": "code",
   "execution_count": 98,
   "id": "cd7e57d8-94d6-475d-9558-ca96f5858f44",
   "metadata": {},
   "outputs": [
    {
     "data": {
      "image/png": "[encoded data removed]",
      "text/plain": [
       "<Figure size 1000x600 with 1 Axes>"
      ]
     },
     "metadata": {},
     "output_type": "display_data"
    }
   ],
   "source": [
    "\n",
    "# Делаем визуализацию df_grouped с помощью метода plot(kind='bar'....)\n",
    "median_seats.plot(kind='barh',\n",
    "                title='Количество посадочных мест по типам заведений',\n",
    "                rot=0,\n",
    "                figsize=(10, 6))\n",
    "plt.xlabel('Количество')\n",
    "plt.ylabel('Тип заведения')\n",
    "# Отображаем график\n",
    "plt.show()"
   ]
  },
  {
   "cell_type": "code",
   "execution_count": 99,
   "id": "a577a6bc",
   "metadata": {},
   "outputs": [
    {
     "data": {
      "image/png": "[encoded data removed]",
      "text/plain": [
       "<Figure size 1000x600 with 1 Axes>"
      ]
     },
     "metadata": {},
     "output_type": "display_data"
    }
   ],
   "source": [
    "tmp = df_unique.copy()  # Создаем копию датасета, что бы не работать с исходным\n",
    "\n",
    "# Вычисление медианы для каждой категории\n",
    "medians = tmp.groupby('category')['seats'].median().sort_values(ascending=False)\n",
    "\n",
    "# Сортировка по медиане\n",
    "sorted_categories = medians.index\n",
    "tmp['category'] = pd.Categorical(tmp['category'], categories=sorted_categories, ordered=True)\n",
    "\n",
    "tmp.boxplot(column='seats', \n",
    "             by='category', \n",
    "             grid=True,       # Выводим сетку на диаграмму\n",
    "             showmeans=True,  # Зеленый треугольники показывают среднее значение  \n",
    "             figsize=(10, 6))\n",
    "\n",
    "# Добавление заголовка и меток осей\n",
    "plt.title('Распределение посадочных мест в зависимости от категории')\n",
    "plt.xlabel('Название категории заведения')\n",
    "plt.ylabel('Количество посадочных мест')\n",
    "\n",
    "plt.xticks(rotation = 30)  #  Поворачиваем метки на оси Х, что бы они не сливались \n",
    "plt.ylim(0,330)            # Ограничиваем вывод для того, чтобы боксплоты были крупными, \n",
    "                           # если убрать, то будут видны все выбросы\n",
    "plt.suptitle('')           # Удаление метки \"seats\" с оси X\n",
    "plt.show()                 # Отображение диаграммы"
   ]
  },
  {
   "cell_type": "markdown",
   "id": "44d8ef2a-1bda-4f7e-9348-7dfaef7cd486",
   "metadata": {},
   "source": [
    "- Больше всего посадочных мест(медиана) в ресторане (86), баре, пабе (82) и кофейне(80), а меньше всего в булочной(50). \n",
    "Половина всех заведений попадает в диапазаон от 40 до 140 посадочных мест. "
   ]
  },
  {
   "cell_type": "markdown",
   "id": "8ed065ea",
   "metadata": {
    "id": "8ed065ea"
   },
   "source": [
    "---\n",
    "\n",
    "### Изучаем рейтинг заведений"
   ]
  },
  {
   "cell_type": "code",
   "execution_count": 102,
   "id": "4a6d37c8-e833-491f-98ce-563baeb7a08d",
   "metadata": {},
   "outputs": [
    {
     "name": "stdout",
     "output_type": "stream",
     "text": [
      "                  count      mean       std  min  25%  50%  75%  max\n",
      "category                                                            \n",
      "быстрое питание   603.0  4.050249  0.560949  1.1  3.9  4.2  4.3  5.0\n",
      "кафе             2376.0  4.124284  0.566001  1.0  4.0  4.2  4.4  5.0\n",
      "столовая          315.0  4.211429  0.454205  1.0  4.1  4.3  4.4  5.0\n",
      "булочная          256.0  4.268360  0.386303  1.3  4.2  4.3  4.4  5.0\n",
      "кофейня          1412.0  4.278753  0.368250  1.4  4.1  4.3  4.4  5.0\n",
      "ресторан         2042.0  4.290401  0.413143  1.0  4.2  4.3  4.5  5.0\n",
      "пиццерия          633.0  4.301264  0.336162  1.0  4.2  4.3  4.4  5.0\n",
      "бар,паб           764.0  4.387697  0.380392  1.1  4.3  4.4  4.6  5.0\n"
     ]
    }
   ],
   "source": [
    "\n",
    "rating = df_unique.groupby('category')['rating'].describe()\n",
    "rating = rating.sort_values(by='mean')\n",
    "print(rating)"
   ]
  },
  {
   "cell_type": "markdown",
   "id": "c60698e6-4885-4ffc-84dd-683a1a0065ec",
   "metadata": {},
   "source": [
    "Значения рейтинга имеют распределение близкое к нормальному. "
   ]
  },
  {
   "cell_type": "code",
   "execution_count": 104,
   "id": "766c86cb",
   "metadata": {
    "id": "766c86cb"
   },
   "outputs": [
    {
     "name": "stdout",
     "output_type": "stream",
     "text": [
      "category\n",
      "бар,паб            4.387696\n",
      "булочная           4.268359\n",
      "быстрое питание    4.050249\n",
      "кафе               4.124285\n",
      "кофейня            4.278754\n",
      "пиццерия           4.301264\n",
      "ресторан           4.290401\n",
      "столовая           4.211429\n",
      "Name: rating, dtype: float32\n"
     ]
    }
   ],
   "source": [
    "# Группируем данные и считаем среднее значение rating\n",
    "mean_rating = df_unique.groupby('category')['rating'].mean()\n",
    "print(mean_rating)"
   ]
  },
  {
   "cell_type": "code",
   "execution_count": 105,
   "id": "cc5206f8",
   "metadata": {
    "id": "cc5206f8"
   },
   "outputs": [
    {
     "data": {
      "image/png": "[encoded data removed]",
      "text/plain": [
       "<Figure size 1000x600 with 1 Axes>"
      ]
     },
     "metadata": {},
     "output_type": "display_data"
    }
   ],
   "source": [
    "# Делаем визуализацию df_grouped с помощью метода plot(kind='bar'....)\n",
    "mean_rating = mean_rating.sort_values()\n",
    "mean_rating.plot(kind='barh',\n",
    "                title='Рейтинг по типам заведений',\n",
    "                rot=0,\n",
    "                figsize=(10, 6))\n",
    "plt.xlabel('Рейтинг')\n",
    "plt.ylabel('Тип заведения')\n",
    "\n",
    "# Отображаем график\n",
    "plt.show()"
   ]
  },
  {
   "cell_type": "markdown",
   "id": "d843a059-a5a5-40a2-8074-1b4e4468c435",
   "metadata": {},
   "source": [
    "- Средний рейтинг всех типов заведений чуть выше 4. Отличия разных типов заведений небольшие. При этом рейтинг заведений быстрого питания 4.05 является самым низким, а баров,пабов 4.39 самым высоким. "
   ]
  },
  {
   "cell_type": "markdown",
   "id": "ef88050e-30c3-473b-914e-e92f744ac4b0",
   "metadata": {},
   "source": [
    "- Самое большое стандартное отклонение рейтинга у заведений быстрого питания и кафе, а самый низкий у пиццерии. Владельцам фастфуда и кафе нужно внимательнее относиться к рейтингам, а пиццерии и бары, пабы менее требовательны к вниманию владельцев к вопросу "
   ]
  },
  {
   "cell_type": "markdown",
   "id": "dd9702d9",
   "metadata": {
    "id": "dd9702d9"
   },
   "source": [
    "---\n",
    "\n",
    "### Изучим корреляцию рейтинга заведений с другими категориями"
   ]
  },
  {
   "cell_type": "code",
   "execution_count": 109,
   "id": "15400eb9",
   "metadata": {
    "id": "15400eb9"
   },
   "outputs": [
    {
     "name": "stdout",
     "output_type": "stream",
     "text": [
      "interval columns not set, guessing: ['chain', 'seats', 'rating']\n",
      "Корреляционная матрица с коэффициентом phi_k для переменной rating\n"
     ]
    },
    {
     "data": {
      "text/html": [
       "<div>\n",
       "<style scoped>\n",
       "    .dataframe tbody tr th:only-of-type {\n",
       "        vertical-align: middle;\n",
       "    }\n",
       "\n",
       "    .dataframe tbody tr th {\n",
       "        vertical-align: top;\n",
       "    }\n",
       "\n",
       "    .dataframe thead th {\n",
       "        text-align: right;\n",
       "    }\n",
       "</style>\n",
       "<table border=\"1\" class=\"dataframe\">\n",
       "  <thead>\n",
       "    <tr style=\"text-align: right;\">\n",
       "      <th></th>\n",
       "      <th>rating</th>\n",
       "    </tr>\n",
       "  </thead>\n",
       "  <tbody>\n",
       "    <tr>\n",
       "      <th>price</th>\n",
       "      <td>0.262056</td>\n",
       "    </tr>\n",
       "    <tr>\n",
       "      <th>category</th>\n",
       "      <td>0.199065</td>\n",
       "    </tr>\n",
       "    <tr>\n",
       "      <th>district</th>\n",
       "      <td>0.189582</td>\n",
       "    </tr>\n",
       "    <tr>\n",
       "      <th>is_24_7</th>\n",
       "      <td>0.161814</td>\n",
       "    </tr>\n",
       "    <tr>\n",
       "      <th>chain</th>\n",
       "      <td>0.118926</td>\n",
       "    </tr>\n",
       "    <tr>\n",
       "      <th>seats</th>\n",
       "      <td>0.000000</td>\n",
       "    </tr>\n",
       "  </tbody>\n",
       "</table>\n",
       "</div>"
      ],
      "text/plain": [
       "            rating\n",
       "price     0.262056\n",
       "category  0.199065\n",
       "district  0.189582\n",
       "is_24_7   0.161814\n",
       "chain     0.118926\n",
       "seats     0.000000"
      ]
     },
     "execution_count": 109,
     "metadata": {},
     "output_type": "execute_result"
    }
   ],
   "source": [
    "# Вычисляем корреляционную матрицу с использованием phi_k\n",
    "correlation_matrix = df_unique[['category', 'district', 'chain', 'seats', 'price',\n",
    "                         'is_24_7','rating']].phik_matrix()\n",
    "\n",
    "# Выводим результат\n",
    "print('Корреляционная матрица с коэффициентом phi_k для переменной rating')\n",
    "correlation_matrix.loc[correlation_matrix.index != 'rating'][['rating']].sort_values(by='rating', ascending=False)"
   ]
  },
  {
   "cell_type": "code",
   "execution_count": 110,
   "id": "518687e3-56c5-4e2b-9f52-96ca0d0951c3",
   "metadata": {},
   "outputs": [
    {
     "data": {
      "image/png": "[encoded data removed]",
      "text/plain": [
       "<Figure size 200x600 with 1 Axes>"
      ]
     },
     "metadata": {},
     "output_type": "display_data"
    }
   ],
   "source": [
    "# Строим тепловую карту\n",
    "plt.figure(figsize=(2, 6))\n",
    "\n",
    "# Сохраняем матрицу корреляции признака churn с другими признаками клиента\n",
    "data_heatmap = correlation_matrix.loc[correlation_matrix.index != 'rating'][['rating']].sort_values(by='rating', ascending=False)\n",
    "sns.heatmap(data_heatmap,\n",
    "            annot=True, # Отображаем численные значения в ячейках карты\n",
    "            fmt='.2f', # Форматируем значения корреляции: два знака после точки\n",
    "            cmap='coolwarm', # Устанавливаем цветовую гамму от красного (макс. значение) к синему\n",
    "            linewidths=0.5, # Форматируем линию между ячейками карты\n",
    "            cbar=False # Отключаем цветовую шкалу\n",
    "           )\n",
    "\n",
    "# Добавляем заголовок и подпись по оси Х\n",
    "plt.title('Тепловая карта коэффициента phi_k \\n для данных rating')\n",
    "\n",
    "\n",
    "# Выводим график\n",
    "plt.show()"
   ]
  },
  {
   "cell_type": "markdown",
   "id": "fa693ba5-a536-4aa8-8644-8bd048533ffe",
   "metadata": {
    "id": "8f0379af"
   },
   "source": [
    "Наибольшая корреляция рейтинга наблюдается с ценой (0.26). "
   ]
  },
  {
   "cell_type": "code",
   "execution_count": 112,
   "id": "1a65a84d",
   "metadata": {
    "id": "1a65a84d"
   },
   "outputs": [
    {
     "data": {
      "image/png": "[encoded data removed]",
      "text/plain": [
       "<Figure size 700x300 with 1 Axes>"
      ]
     },
     "metadata": {},
     "output_type": "display_data"
    }
   ],
   "source": [
    "# Построим график столбчатой диаграммы\n",
    "rating_and_price_correlation = df_unique.groupby('price')['rating'].mean()\n",
    "rating_and_price_correlation  = rating_and_price_correlation.sort_values()\n",
    "rating_and_price_correlation.plot(kind='bar',\n",
    "               title=f'Распределение рейтинга в зависимости от цены',\n",
    "               legend=True,\n",
    "               ylabel='Рейтинг',\n",
    "               xlabel='Категория цены',\n",
    "               rot=0,\n",
    "               figsize=(7, 3))\n",
    "plt.grid()\n",
    "\n",
    "# Выводим график\n",
    "plt.show()"
   ]
  },
  {
   "cell_type": "code",
   "execution_count": 113,
   "id": "dc61ddca-100e-43ce-8bf3-ae6858f41cf0",
   "metadata": {},
   "outputs": [
    {
     "name": "stdout",
     "output_type": "stream",
     "text": [
      "price\n",
      "низкие           4.173077\n",
      "средние          4.297874\n",
      "выше среднего    4.386348\n",
      "высокие          4.436611\n",
      "Name: rating, dtype: float32\n"
     ]
    }
   ],
   "source": [
    "print(rating_and_price_correlation)"
   ]
  },
  {
   "cell_type": "markdown",
   "id": "8d7003c1-8522-49a3-8166-60b6b95fba58",
   "metadata": {},
   "source": [
    "- Видно, что есть слабая  зависимости между категорией цены и рейтингом. Чем выше категория цены, тем выше рейтинг"
   ]
  },
  {
   "cell_type": "markdown",
   "id": "370de703",
   "metadata": {
    "id": "370de703"
   },
   "source": [
    "---\n",
    "\n",
    "### Изучаем топ-15 популярных сетей\n",
    "\n",
    "Сгруппируем данные по названиям заведений и найдём топ-15 популярных сетей в Москве. Для них посчитаем значения среднего рейтинга. "
   ]
  },
  {
   "cell_type": "code",
   "execution_count": 116,
   "id": "852d2eb6-6b3a-4488-af2f-34893e86b484",
   "metadata": {},
   "outputs": [
    {
     "data": {
      "text/html": [
       "<div>\n",
       "<style scoped>\n",
       "    .dataframe tbody tr th:only-of-type {\n",
       "        vertical-align: middle;\n",
       "    }\n",
       "\n",
       "    .dataframe tbody tr th {\n",
       "        vertical-align: top;\n",
       "    }\n",
       "\n",
       "    .dataframe thead th {\n",
       "        text-align: right;\n",
       "    }\n",
       "</style>\n",
       "<table border=\"1\" class=\"dataframe\">\n",
       "  <thead>\n",
       "    <tr style=\"text-align: right;\">\n",
       "      <th></th>\n",
       "      <th></th>\n",
       "      <th>количество_заведений</th>\n",
       "      <th>средний_рейтинг</th>\n",
       "    </tr>\n",
       "    <tr>\n",
       "      <th>name</th>\n",
       "      <th>category</th>\n",
       "      <th></th>\n",
       "      <th></th>\n",
       "    </tr>\n",
       "  </thead>\n",
       "  <tbody>\n",
       "    <tr>\n",
       "      <th>шоколадница</th>\n",
       "      <th>кофейня</th>\n",
       "      <td>119</td>\n",
       "      <td>4.178151</td>\n",
       "    </tr>\n",
       "    <tr>\n",
       "      <th>домино_с_пицца</th>\n",
       "      <th>пиццерия</th>\n",
       "      <td>76</td>\n",
       "      <td>4.169737</td>\n",
       "    </tr>\n",
       "    <tr>\n",
       "      <th>додо_пицца</th>\n",
       "      <th>пиццерия</th>\n",
       "      <td>74</td>\n",
       "      <td>4.286487</td>\n",
       "    </tr>\n",
       "    <tr>\n",
       "      <th>яндекс_лавка</th>\n",
       "      <th>ресторан</th>\n",
       "      <td>72</td>\n",
       "      <td>3.855556</td>\n",
       "    </tr>\n",
       "    <tr>\n",
       "      <th>one_price_coffee</th>\n",
       "      <th>кофейня</th>\n",
       "      <td>71</td>\n",
       "      <td>4.064789</td>\n",
       "    </tr>\n",
       "    <tr>\n",
       "      <th>cofix</th>\n",
       "      <th>кофейня</th>\n",
       "      <td>65</td>\n",
       "      <td>4.075385</td>\n",
       "    </tr>\n",
       "    <tr>\n",
       "      <th>prime</th>\n",
       "      <th>ресторан</th>\n",
       "      <td>49</td>\n",
       "      <td>4.114285</td>\n",
       "    </tr>\n",
       "    <tr>\n",
       "      <th>кофепорт</th>\n",
       "      <th>кофейня</th>\n",
       "      <td>42</td>\n",
       "      <td>4.147619</td>\n",
       "    </tr>\n",
       "    <tr>\n",
       "      <th>кулинарная_лавка_братьев_караваевых</th>\n",
       "      <th>кафе</th>\n",
       "      <td>39</td>\n",
       "      <td>4.394872</td>\n",
       "    </tr>\n",
       "    <tr>\n",
       "      <th>теремок</th>\n",
       "      <th>ресторан</th>\n",
       "      <td>36</td>\n",
       "      <td>4.105556</td>\n",
       "    </tr>\n",
       "    <tr>\n",
       "      <th>cofe_fest</th>\n",
       "      <th>кофейня</th>\n",
       "      <td>31</td>\n",
       "      <td>3.977419</td>\n",
       "    </tr>\n",
       "    <tr>\n",
       "      <th>чайхана</th>\n",
       "      <th>кафе</th>\n",
       "      <td>26</td>\n",
       "      <td>3.946154</td>\n",
       "    </tr>\n",
       "    <tr>\n",
       "      <th>буханка</th>\n",
       "      <th>булочная</th>\n",
       "      <td>25</td>\n",
       "      <td>4.416000</td>\n",
       "    </tr>\n",
       "    <tr>\n",
       "      <th>drive_café</th>\n",
       "      <th>кафе</th>\n",
       "      <td>24</td>\n",
       "      <td>4.025000</td>\n",
       "    </tr>\n",
       "    <tr>\n",
       "      <th>кофемания</th>\n",
       "      <th>кофейня</th>\n",
       "      <td>22</td>\n",
       "      <td>4.463636</td>\n",
       "    </tr>\n",
       "  </tbody>\n",
       "</table>\n",
       "</div>"
      ],
      "text/plain": [
       "                                              количество_заведений  \\\n",
       "name                                category                         \n",
       "шоколадница                         кофейня                    119   \n",
       "домино_с_пицца                      пиццерия                    76   \n",
       "додо_пицца                          пиццерия                    74   \n",
       "яндекс_лавка                        ресторан                    72   \n",
       "one_price_coffee                    кофейня                     71   \n",
       "cofix                               кофейня                     65   \n",
       "prime                               ресторан                    49   \n",
       "кофепорт                            кофейня                     42   \n",
       "кулинарная_лавка_братьев_караваевых кафе                        39   \n",
       "теремок                             ресторан                    36   \n",
       "cofe_fest                           кофейня                     31   \n",
       "чайхана                             кафе                        26   \n",
       "буханка                             булочная                    25   \n",
       "drive_café                          кафе                        24   \n",
       "кофемания                           кофейня                     22   \n",
       "\n",
       "                                              средний_рейтинг  \n",
       "name                                category                   \n",
       "шоколадница                         кофейня          4.178151  \n",
       "домино_с_пицца                      пиццерия         4.169737  \n",
       "додо_пицца                          пиццерия         4.286487  \n",
       "яндекс_лавка                        ресторан         3.855556  \n",
       "one_price_coffee                    кофейня          4.064789  \n",
       "cofix                               кофейня          4.075385  \n",
       "prime                               ресторан         4.114285  \n",
       "кофепорт                            кофейня          4.147619  \n",
       "кулинарная_лавка_братьев_караваевых кафе             4.394872  \n",
       "теремок                             ресторан         4.105556  \n",
       "cofe_fest                           кофейня          3.977419  \n",
       "чайхана                             кафе             3.946154  \n",
       "буханка                             булочная         4.416000  \n",
       "drive_café                          кафе             4.025000  \n",
       "кофемания                           кофейня          4.463636  "
      ]
     },
     "execution_count": 116,
     "metadata": {},
     "output_type": "execute_result"
    }
   ],
   "source": [
    "#Выбирем только сетевые заведения\n",
    "chain_catering = df_unique[df_unique['chain'] == 1]\n",
    "# Создаем сводную таблицу\n",
    "pivot_table = pd.pivot_table(\n",
    "    chain_catering,\n",
    "    values=['id', 'rating'],  # Какие значения агрегируем\n",
    "    index=['name', 'category'],  # По каким индексам\n",
    "    aggfunc={'id': 'count', 'rating': 'mean'}  # Какие функции агрегации применяем\n",
    ")\n",
    "pivot_table = pivot_table.rename(columns={\n",
    "        'id': 'количество_заведений',\n",
    "        'rating': 'средний_рейтинг'})\n",
    "# Сортируем и берем топ-15 (как описано выше)\n",
    "pivot_table = pivot_table.sort_values(by='количество_заведений', ascending=False)\n",
    "top_15 = pivot_table.head(15)\n",
    "top_15"
   ]
  },
  {
   "cell_type": "markdown",
   "id": "05c5dc0c-e32a-429d-8978-e52905626f35",
   "metadata": {},
   "source": [
    "- По типам заведений больше всего сетей кофеен 6 и кафе 3. Сетей ресторанов 3 и две пиццерии. Булочная всего одна - Буханка. "
   ]
  },
  {
   "cell_type": "code",
   "execution_count": 118,
   "id": "8cae6af4-ce9f-4845-9c32-c702d004def8",
   "metadata": {},
   "outputs": [
    {
     "data": {
      "image/png": "[encoded data removed]",
      "text/plain": [
       "<Figure size 1000x600 with 1 Axes>"
      ]
     },
     "metadata": {},
     "output_type": "display_data"
    }
   ],
   "source": [
    "# Сбрасываем индексы для обращения к столбцу name\n",
    "top_15 = top_15.reset_index()\n",
    "# Делаем визуализацию \n",
    "top_15.plot(kind='barh', \n",
    "            x='name', \n",
    "            y='количество_заведений',\n",
    "            title='Популярность сетевых заведений',\n",
    "            legend=False,\n",
    "            rot=0,\n",
    "            figsize=(10, 6))\n",
    "plt.xlabel('Количество заведений')\n",
    "plt.ylabel('Название')\n",
    "plt.gca().invert_yaxis() \n",
    "# Отображаем график\n",
    "plt.show()"
   ]
  },
  {
   "cell_type": "markdown",
   "id": "b12bc01f-9cbb-4b4f-9fdb-7d0da6db11aa",
   "metadata": {},
   "source": [
    "- Самое большое кол-во заведений с большим отрывом у сети Шоколадница, 120. Далее идут Доминос Пицца и Додо Пицца с 76 и 74 заведениями соответственно. "
   ]
  },
  {
   "cell_type": "code",
   "execution_count": 120,
   "id": "c495a62b-396d-43a1-ac56-b5eb001b93ed",
   "metadata": {},
   "outputs": [
    {
     "data": {
      "image/png": "[encoded data removed]",
      "text/plain": [
       "<Figure size 1000x600 with 1 Axes>"
      ]
     },
     "metadata": {},
     "output_type": "display_data"
    }
   ],
   "source": [
    "\n",
    "# Делаем визуализацию \n",
    "top_15.sort_values(by='средний_рейтинг', ascending=False).plot(kind='barh',\n",
    "            x='name',\n",
    "            y='средний_рейтинг',\n",
    "            title='Рейтинг популярных сетевых заведений',\n",
    "            legend=False,\n",
    "            rot=0,\n",
    "            figsize=(10, 6))\n",
    "plt.xlabel('Рейтинг')\n",
    "plt.ylabel('Название')\n",
    "plt.gca().invert_yaxis() \n",
    "# Отображаем график\n",
    "plt.show()"
   ]
  },
  {
   "cell_type": "markdown",
   "id": "8ec9f999-226d-4d44-a042-6df40229872f",
   "metadata": {},
   "source": [
    "- Самый высокий рейтинг у сетей Кофемания 4.46, Буханка 4.42 и Кулинарная лавка братьев Караваевых 4.39. \n"
   ]
  },
  {
   "cell_type": "markdown",
   "id": "85a90a94",
   "metadata": {
    "id": "85a90a94"
   },
   "source": [
    "---\n",
    "\n",
    "### Изучим вариацию среднего чека в округах\n",
    "\n",
    "Изучите вариацию среднего чека заведения (столбец `middle_avg_bill`) в зависимости от района Москвы. Проанализируйте цены в Центральном административном округе и других. Как удалённость от центра влияет на цены в заведениях? Результат сопроводите подходящими визуализациями.\n"
   ]
  },
  {
   "cell_type": "markdown",
   "id": "b2ba0f6c-b9ce-4548-ae25-27582bb16306",
   "metadata": {},
   "source": [
    "- Сначала посмотрим на вариацию среднего чека в целом"
   ]
  },
  {
   "cell_type": "code",
   "execution_count": 124,
   "id": "977e3204-077a-4485-8b3e-4e06e022bb72",
   "metadata": {},
   "outputs": [
    {
     "name": "stdout",
     "output_type": "stream",
     "text": [
      "Статистические показатели столбца middle_avg_bill:\n"
     ]
    },
    {
     "data": {
      "text/plain": [
       "count     3149.000000\n",
       "mean       958.053650\n",
       "std       1009.732849\n",
       "min          0.000000\n",
       "25%        375.000000\n",
       "50%        750.000000\n",
       "75%       1250.000000\n",
       "max      35000.000000\n",
       "Name: middle_avg_bill, dtype: float64"
      ]
     },
     "execution_count": 124,
     "metadata": {},
     "output_type": "execute_result"
    }
   ],
   "source": [
    "print('Статистические показатели столбца middle_avg_bill:')\n",
    "df_unique['middle_avg_bill'].describe()"
   ]
  },
  {
   "cell_type": "code",
   "execution_count": 125,
   "id": "d1e888d8-f7b8-4b4f-9b4f-5cc53f2cc6fe",
   "metadata": {},
   "outputs": [
    {
     "data": {
      "image/png": "[encoded data removed]",
      "text/plain": [
       "<Figure size 700x300 with 1 Axes>"
      ]
     },
     "metadata": {},
     "output_type": "display_data"
    }
   ],
   "source": [
    "# Создаём контейнер графика matplotlib и задаём его размер\n",
    "plt.figure(figsize=(7, 3))\n",
    "\n",
    "# Строим гистограмму с помощью pandas через plot(kind='hist')\n",
    "df_unique['middle_avg_bill'].plot(\n",
    "                kind='hist', # Тип графика - гистограмма\n",
    "                bins=200, # Устанавливаем количество корзин - всего 200\n",
    "                alpha=0.75,\n",
    "                edgecolor='black',\n",
    "                rot=0, # Градус вращения подписи по оси Х\n",
    ")\n",
    "\n",
    "# Настраиваем оформление графика\n",
    "plt.title('Распределение значений среднего чека')\n",
    "plt.xlabel('Средний чек')\n",
    "plt.ylabel('Частота')\n",
    "# Добавляем сетку графика\n",
    "plt.grid()\n",
    "\n",
    "# Выводим график\n",
    "plt.show()"
   ]
  },
  {
   "cell_type": "code",
   "execution_count": 126,
   "id": "c10970e3-e9fa-4e66-bc52-6ab38c500289",
   "metadata": {},
   "outputs": [
    {
     "data": {
      "image/png": "[encoded data removed]",
      "text/plain": [
       "<Figure size 700x200 with 1 Axes>"
      ]
     },
     "metadata": {},
     "output_type": "display_data"
    }
   ],
   "source": [
    "# Создаём контейнер графика matplotlib и задаём его размер\n",
    "plt.figure(figsize=(7, 2))\n",
    "\n",
    "# Строим диаграмму размаха значений в столбце middle_avg_bill\n",
    "df_unique.boxplot(column='middle_avg_bill', vert=False)\n",
    "\n",
    "# Добавляем заголовок и метки оси\n",
    "plt.title('Распределение значений среднего чека')\n",
    "plt.xlabel('Средний чек')\n",
    "\n",
    "# Выводим график\n",
    "plt.show()"
   ]
  },
  {
   "cell_type": "markdown",
   "id": "131c4db1-12f1-4dee-b9a4-bb06980cf36e",
   "metadata": {},
   "source": [
    "- Правоассиметричное распределение с \"длинным\" хвостом высоких значений\n",
    "- Максимальное значение в 35000 может относится к естественным выбросам\n",
    "- Минимальное знаечние в 0 скорее является ошибкой или индикатором Null\n",
    "- Много выбросов между 2.500 и 7000, но эти данные не являются ошибкой, поскольку в Москве много дорогих ресторанов\n",
    "- Среднее значение 958, стандартное отклонение 1010 является высоким\n",
    "- Лучшее понимание даёт медиана 750"
   ]
  },
  {
   "cell_type": "markdown",
   "id": "99b926f3-9292-4bef-96bb-4c8ee9c388f7",
   "metadata": {},
   "source": [
    "- Посмотрим на вариацию среднего чека по районам"
   ]
  },
  {
   "cell_type": "code",
   "execution_count": 129,
   "id": "bede5cb0-94b2-4c71-bcdb-b00cf58874bd",
   "metadata": {},
   "outputs": [
    {
     "data": {
      "text/html": [
       "<div>\n",
       "<style scoped>\n",
       "    .dataframe tbody tr th:only-of-type {\n",
       "        vertical-align: middle;\n",
       "    }\n",
       "\n",
       "    .dataframe tbody tr th {\n",
       "        vertical-align: top;\n",
       "    }\n",
       "\n",
       "    .dataframe thead th {\n",
       "        text-align: right;\n",
       "    }\n",
       "</style>\n",
       "<table border=\"1\" class=\"dataframe\">\n",
       "  <thead>\n",
       "    <tr style=\"text-align: right;\">\n",
       "      <th></th>\n",
       "      <th>mean</th>\n",
       "      <th>median</th>\n",
       "    </tr>\n",
       "    <tr>\n",
       "      <th>district</th>\n",
       "      <th></th>\n",
       "      <th></th>\n",
       "    </tr>\n",
       "  </thead>\n",
       "  <tbody>\n",
       "    <tr>\n",
       "      <th>Центральный административный округ</th>\n",
       "      <td>1191.057495</td>\n",
       "      <td>1000.0</td>\n",
       "    </tr>\n",
       "    <tr>\n",
       "      <th>Западный административный округ</th>\n",
       "      <td>1053.225464</td>\n",
       "      <td>1000.0</td>\n",
       "    </tr>\n",
       "    <tr>\n",
       "      <th>Северный административный округ</th>\n",
       "      <td>927.959656</td>\n",
       "      <td>650.0</td>\n",
       "    </tr>\n",
       "    <tr>\n",
       "      <th>Южный административный округ</th>\n",
       "      <td>834.398071</td>\n",
       "      <td>500.0</td>\n",
       "    </tr>\n",
       "    <tr>\n",
       "      <th>Северо-Западный административный округ</th>\n",
       "      <td>822.222900</td>\n",
       "      <td>700.0</td>\n",
       "    </tr>\n",
       "    <tr>\n",
       "      <th>Восточный административный округ</th>\n",
       "      <td>820.626953</td>\n",
       "      <td>575.0</td>\n",
       "    </tr>\n",
       "    <tr>\n",
       "      <th>Юго-Западный административный округ</th>\n",
       "      <td>792.561707</td>\n",
       "      <td>600.0</td>\n",
       "    </tr>\n",
       "    <tr>\n",
       "      <th>Северо-Восточный административный округ</th>\n",
       "      <td>716.611267</td>\n",
       "      <td>500.0</td>\n",
       "    </tr>\n",
       "    <tr>\n",
       "      <th>Юго-Восточный административный округ</th>\n",
       "      <td>654.097961</td>\n",
       "      <td>450.0</td>\n",
       "    </tr>\n",
       "  </tbody>\n",
       "</table>\n",
       "</div>"
      ],
      "text/plain": [
       "                                                mean  median\n",
       "district                                                    \n",
       "Центральный административный округ       1191.057495  1000.0\n",
       "Западный административный округ          1053.225464  1000.0\n",
       "Северный административный округ           927.959656   650.0\n",
       "Южный административный округ              834.398071   500.0\n",
       "Северо-Западный административный округ    822.222900   700.0\n",
       "Восточный административный округ          820.626953   575.0\n",
       "Юго-Западный административный округ       792.561707   600.0\n",
       "Северо-Восточный административный округ   716.611267   500.0\n",
       "Юго-Восточный административный округ      654.097961   450.0"
      ]
     },
     "execution_count": 129,
     "metadata": {},
     "output_type": "execute_result"
    }
   ],
   "source": [
    "# Создаем сводную таблицу\n",
    "pivot_table_district_middle_avg_bill = pd.pivot_table(\n",
    "    df_unique,\n",
    "    values=['middle_avg_bill'],  # Какие значения агрегируем\n",
    "    index=['district'],  # По каким индексам\n",
    "    aggfunc={'middle_avg_bill': ['median', 'mean']}  # Какие функции агрегации применяем\n",
    ")\n",
    "\n",
    "# Сортируем \n",
    "pivot_table_district_middle_avg_bill = pivot_table_district_middle_avg_bill.sort_values(by=('middle_avg_bill', 'mean'), ascending=False)\n",
    "# Убираем уровень 'middle_avg_bill'\n",
    "pivot_table_district_middle_avg_bill.columns = pivot_table_district_middle_avg_bill.columns.droplevel()\n",
    "pivot_table_district_middle_avg_bill"
   ]
  },
  {
   "cell_type": "code",
   "execution_count": 130,
   "id": "b8cfe559-52ec-4141-ba52-e34899879efa",
   "metadata": {},
   "outputs": [
    {
     "data": {
      "image/png": "[encoded data removed]",
      "text/plain": [
       "<Figure size 700x300 with 1 Axes>"
      ]
     },
     "metadata": {},
     "output_type": "display_data"
    }
   ],
   "source": [
    "\n",
    "pivot_table_district_middle_avg_bill.plot(kind='barh',\n",
    "               title='Зависимость типичного значения среднего чека от округа',\n",
    "               ylabel='Значение чека',  \n",
    "               xlabel='Округ', \n",
    "               rot=0,\n",
    "               figsize=(7, 3)\n",
    "               )                         \n",
    "plt.gca().invert_yaxis() \n",
    "\n",
    "# Create a dictionary to map old labels to new, more readable labels\n",
    "\n",
    "\n",
    "plt.legend(title='')\n",
    "# Выводим график\n",
    "plt.show()"
   ]
  },
  {
   "cell_type": "markdown",
   "id": "fb30f992-6d29-4271-afc4-c312fc789c4a",
   "metadata": {
    "id": "b98066c1"
   },
   "source": [
    "- Самый высокий средний чек в ЦАО  и ЗАО, медиана составляет 1000 р., причем среднее арифметическое в ЦАО больше, 1200 против 1050, что скорее всего связано с большой долей очень дорогих заведений.\n",
    "- На третьем месте находится СЗАО, 700 р. медиана.\n",
    "- Самый низкий средний чек ЮВАО, медиана 450 р., среднее арифметическое 650 р.   В остальных АО медиана колеблется от 500 до 700 р. "
   ]
  },
  {
   "cell_type": "markdown",
   "id": "c150bd4f",
   "metadata": {
    "id": "c150bd4f"
   },
   "source": [
    "---\n"
   ]
  },
  {
   "cell_type": "markdown",
   "id": "f2c54e9a",
   "metadata": {
    "id": "f2c54e9a"
   },
   "source": [
    "---\n",
    "\n",
    "### Промежуточный вывод\n",
    "\n"
   ]
  },
  {
   "cell_type": "markdown",
   "id": "bcbde2da-4200-46b8-9b03-13166b8dd8b5",
   "metadata": {
    "id": "c8869609"
   },
   "source": [
    "- Самые популярные виды заведений кафе 28%, ресторан 24% и кофейня 16%\n",
    "- В большинстве округов находится от 700 до 900 заведений. Больше всего заведений, более 2.2 тысяч, в Центральном административном округе. Меньше всего в Северо-Западном административном округе, менее 500.\n",
    "- В отличие от общего распределения в ЦАО на первом месте находятся рестораны 30% , а не кафе 21%. Также сравнительно больше баров и пабов 16%.\n",
    "- Больше 60% заведений не являются сетевыми. Количество сетевых заведений превышает количество несетевых в следующих типах заведений: булочная 61%, пиццерия 52% и кофейня 51%. Меньше всего сетевых заведений среди баров и пабов 22%. \n",
    "- Наиболее типичное значение кол-ва посадочных мест  в  ресторане (86), баре, пабе (82) и кофейне(80) посадочных мест, а меньше всего в булочной(50). Половина всех заведений попадает в диапазон от 40 до 140 посадочных мест.\n",
    "- Встречаются аномалии в кол-ве посадочных мест. Значения 0 можно объяснить тем, что часть заведений не имеет посадочных мест, например точки продажи шаурмы. Большое количество посадочных мест, может быть в банкетных залах, фуд-кортах и заведениях питания при спортивно-концертных комплексах.\n",
    "- Средний рейтинг всех типов заведений чуть выше 4. Отличия разных типов заведений небольшие. При этом рейтинг заведений быстрого питания 4.05 является самым низким, а баров, пабов 4.39 самым высоким.\n",
    "- Существует слабая  корреляция между категорией цены и рейтингом.  Чем выше категория цены, тем выше рейтинг\n",
    "- Топ - 15 сетей. Самое большое кол-во заведений с большим отрывом у сети Шоколадница, 120. Далее идут Доминос Пицца и Додо Пицца с 76 и 74 заведениями соответственно. По типам заведений больше всего сетей кофеен 6 и кафе 3. Сетей ресторанов 3 и две пиццерии. Булочная всего одна - Буханка.\n",
    "- Самый высокий рейтинг из топ-15 у сетей Кофемания 4.46, Буханка 4.42 и Кулинарная лавка братьев Караваевых 4.39. \n",
    "- Самый высокий средний чек в ЦАО  и ЗАО, медиана составляет 1000 р., причем среднее арифметическое в ЦАО больше, 1200 против 1050, что скорее всего связано с большой долей очень дорогих заведений. На третьем месте находится СЗАО, 700 р. медиана.  Самый низкий средний чек ЮВАО, медиана 450 р., среднее арифметическое 650 р.   В остальных АО медиана колеблется от 500 до 700 р. "
   ]
  },
  {
   "cell_type": "markdown",
   "id": "480f3422",
   "metadata": {
    "id": "480f3422"
   },
   "source": [
    "## 7. Итоговый вывод и рекомендации  "
   ]
  },
  {
   "cell_type": "markdown",
   "id": "b9186dc4-a819-4960-8fd1-37dfe8af84fd",
   "metadata": {},
   "source": [
    "#### Общий обзор проделанной работы\n",
    "1. Загрузили данные и познакомились с ними. \n",
    "- Названия столбцов корректны, значения соответствуют описанным данным\n",
    "- Размерность столбцов 'chain','rating' можно оптимизировать\n",
    "- В датафрейме  rest_info пропуски содержатся в столбцах 'hours' и 'seats' \n",
    "- В датафрейме rest_price в 2 раза меньше строк, соответственно более половины ресторанов не имеют информацию о среднем чеке\n",
    "\n",
    "2. Подготовили единый датафрейм. Проверили ошибки в данных, провели предобработку\n",
    "- Соединили rest_info_df и rest_price_df с  помощью left join, чтобы  не потерять данные о половине заведений\n",
    "- Понизили разрядность данных в столбцах 'chain','rating\n",
    "- Изучены пропуски в данных. Пропуски обнаружились в столбцах 'hours' содержит 536 пропусков - 6% данных и 'seats' содержит 3611 пропусков - 43% данных. Столбцы price, avg_bill, middle_avg_bill содержат больше половины пропусков. Столбец middle_coffee_cup 94% пропусков.\n",
    "- Учитывая это количество, пропуски могут отражать особенности заполнения данных владельцами заведений и не являться ошибкой в данных. Большая часть пропусков может быть вызвана тем, что владельцы заведения не заводили аккаунт в Яндекс Бизнес и соответственно не покупали в нём рекламу, поэтому они не заполняли сведения о своём заведении. Я бы отнес пропуски к категории MNAR — неслучайные пропуски, связанные с данными, которых нет в наборе.\n",
    "- Данные проверили на явные и неявные дубликаты. Обнаружено 5 строк с неявными дубликатами, они были удалены\n",
    "- Добавлен столбец is_24_7 с обозначением того, что заведение работает ежедневно и круглосуточно. Таких 730 заведений\n",
    "3. Провели исследовательский анализ заведений общественного питания:\n",
    "- категорий, типов заведений\n",
    "- распределение заведений по административным округам\n",
    "- сетевых и несетевых\n",
    "- количество посадочных мест\n",
    "- корреляцию между рейтингом и другими показателями\n",
    "- топ-15 популярных сетей\n",
    "- средний чек в зависимости от района\n",
    "\n"
   ]
  },
  {
   "cell_type": "markdown",
   "id": "a2bc196e-e62a-4f61-9d6c-502487bb5e8b",
   "metadata": {},
   "source": [
    "#### Ответы на исследовательские вопросы, или главные выводы"
   ]
  },
  {
   "cell_type": "markdown",
   "id": "4a333e78-b85f-4c61-a24b-581dc75a7d8f",
   "metadata": {},
   "source": [
    "- Самые популярные виды заведений кафе 28%, ресторан 24% и кофейня 16%\n",
    "- В большинстве округов находится от 700 до 900 заведений. Больше всего заведений, более 2.2 тысяч, в Центральном административном округе. Меньше всего в Северо-Западном административном округе, менее 500.\n",
    "- В отличие от общего распределения в ЦАО на первом месте находятся рестораны 30% , а не кафе 21%. Также сравнительно больше баров и пабов 16%.\n",
    "- Больше 60% заведений не являются сетевыми. Количество сетевых заведений превышает количество несетевых в следующих типах заведений: булочная 61%, пиццерия 52% и кофейня 51%. Меньше всего сетевых заведений среди баров и пабов 22%. \n",
    "- Наиболее типичное значение кол-ва посадочных мест  в  ресторане (86), баре, пабе (82) и кофейне(80) посадочных мест, а меньше всего в булочной(50). Половина всех заведений попадает в диапазон от 40 до 140 посадочных мест.\n",
    "- Встречаются аномалии в кол-ве посадочных мест. Значения 0 можно объяснить тем, что часть заведений не имеет посадочных мест, например точки продажи шаурмы. Большое количество посадочных мест, может быть в банкетных залах, фуд-кортах и заведениях питания при спортивно-концертных комплексах.\n",
    "- Средний рейтинг всех типов заведений чуть выше 4. Отличия разных типов заведений небольшие. При этом рейтинг заведений быстрого питания 4.05 является самым низким, а баров, пабов 4.39 самым высоким.\n",
    "- Существует слабая  корреляция между категорией цены и рейтингом.  Чем выше категория цены, тем выше рейтинг\n",
    "- Топ - 15 сетей. Самое большое кол-во заведений с большим отрывом у сети Шоколадница, 120. Далее идут Доминос Пицца и Додо Пицца с 76 и 74 заведениями соответственно. По типам заведений больше всего сетей кофеен 6 и кафе 3. Сетей ресторанов 3 и две пиццерии. Булочная всего одна - Буханка.\n",
    "- Самый высокий рейтинг из топ-15 у сетей Кофемания 4.46, Буханка 4.42 и Кулинарная лавка братьев Караваевых 4.39. \n",
    "- Самый высокий средний чек в ЦАО  и ЗАО, медиана составляет 1000 р., причем среднее арифметическое в ЦАО больше, 1200 против 1050, что скорее всего связано с большой долей очень дорогих заведений. На третьем месте находится СЗАО, 700 р. медиана.  Самый низкий средний чек ЮВАО, медиана 450 р., среднее арифметическое 650 р.   В остальных АО медиана колеблется от 500 до 700 р. "
   ]
  },
  {
   "cell_type": "markdown",
   "id": "b45ad622-23ca-4f1d-b29d-75b76e4aa098",
   "metadata": {},
   "source": [
    "#### Рекомендации для открытия заведений общепита на основе анализа данных.\n",
    "- При выборе типа заведения следует ориентироваться на самые популярные категории: кафе, ресторан, кофейня. Примером альтернативной стратегии является, когда ставка делается на непопулярную категорию, например, булочные Буханка, сеть которая захватила сегмент булочных в спальных районах Москвы.\n",
    "- Если планируется открыть сеть заведений, то лучше всего подходит булочная, пиццерия и кофейня. Меньше всего подходит бар, паб.   \n",
    "- В ЦАО самая высокая конкуренция, поэтому следует открывать заведения в других районах. Стоит попробовать начать с Северо-Западного округа, где наиболее низкая конкуренция и самая высокая величина среднего чека  после ЦАО и ЗАО.  С другой стороны, низкое количество заведений в этом районе может свидетельствовать о низком платёжеспособном спросе жителей района или  о том, что большинство жителей предпочитают ходить заведения в центре и новые заведения не будут пользоваться спросом. \n",
    "- Если открывать ресторан, бар-паб, кофейню, столовую, то следует ориентироваться примерно на 80 посадочных мест в каждом заведении. Если открывать булочную, пиццерию, кафе, то следует ориентироваться на 50-60 мест.\n",
    "  "
   ]
  },
  {
   "cell_type": "code",
   "execution_count": null,
   "id": "13d07158-2f9a-445c-9e58-1f7b2fb82322",
   "metadata": {},
   "outputs": [],
   "source": []
  }
 ],
 "metadata": {
  "ExecuteTimeLog": [
   {
    "duration": 1467,
    "start_time": "2025-05-05T10:42:56.235Z"
   },
   {
    "duration": 0,
    "start_time": "2025-05-05T10:42:57.705Z"
   },
   {
    "duration": 0,
    "start_time": "2025-05-05T10:42:57.707Z"
   },
   {
    "duration": 0,
    "start_time": "2025-05-05T10:42:57.709Z"
   },
   {
    "duration": 0,
    "start_time": "2025-05-05T10:42:57.710Z"
   },
   {
    "duration": 0,
    "start_time": "2025-05-05T10:42:57.712Z"
   },
   {
    "duration": 0,
    "start_time": "2025-05-05T10:42:57.713Z"
   },
   {
    "duration": 0,
    "start_time": "2025-05-05T10:42:57.714Z"
   },
   {
    "duration": 0,
    "start_time": "2025-05-05T10:42:57.716Z"
   },
   {
    "duration": 0,
    "start_time": "2025-05-05T10:42:57.717Z"
   },
   {
    "duration": 0,
    "start_time": "2025-05-05T10:42:57.719Z"
   },
   {
    "duration": 0,
    "start_time": "2025-05-05T10:42:57.720Z"
   },
   {
    "duration": 0,
    "start_time": "2025-05-05T10:42:57.722Z"
   },
   {
    "duration": 0,
    "start_time": "2025-05-05T10:42:57.723Z"
   },
   {
    "duration": 0,
    "start_time": "2025-05-05T10:42:57.724Z"
   },
   {
    "duration": 0,
    "start_time": "2025-05-05T10:42:57.726Z"
   },
   {
    "duration": 0,
    "start_time": "2025-05-05T10:42:57.728Z"
   },
   {
    "duration": 1,
    "start_time": "2025-05-05T10:42:57.729Z"
   },
   {
    "duration": 0,
    "start_time": "2025-05-05T10:42:57.731Z"
   },
   {
    "duration": 0,
    "start_time": "2025-05-05T10:42:57.771Z"
   },
   {
    "duration": 0,
    "start_time": "2025-05-05T10:42:57.772Z"
   },
   {
    "duration": 0,
    "start_time": "2025-05-05T10:42:57.773Z"
   },
   {
    "duration": 0,
    "start_time": "2025-05-05T10:42:57.775Z"
   },
   {
    "duration": 0,
    "start_time": "2025-05-05T10:42:57.775Z"
   },
   {
    "duration": 0,
    "start_time": "2025-05-05T10:42:57.776Z"
   },
   {
    "duration": 0,
    "start_time": "2025-05-05T10:42:57.777Z"
   },
   {
    "duration": 0,
    "start_time": "2025-05-05T10:42:57.778Z"
   },
   {
    "duration": 0,
    "start_time": "2025-05-05T10:42:57.779Z"
   },
   {
    "duration": 0,
    "start_time": "2025-05-05T10:42:57.780Z"
   },
   {
    "duration": 0,
    "start_time": "2025-05-05T10:42:57.781Z"
   },
   {
    "duration": 0,
    "start_time": "2025-05-05T10:42:57.782Z"
   },
   {
    "duration": 0,
    "start_time": "2025-05-05T10:42:57.783Z"
   },
   {
    "duration": 0,
    "start_time": "2025-05-05T10:42:57.784Z"
   },
   {
    "duration": 0,
    "start_time": "2025-05-05T10:42:57.785Z"
   },
   {
    "duration": 0,
    "start_time": "2025-05-05T10:42:57.786Z"
   },
   {
    "duration": 0,
    "start_time": "2025-05-05T10:42:57.788Z"
   },
   {
    "duration": 0,
    "start_time": "2025-05-05T10:42:57.789Z"
   },
   {
    "duration": 0,
    "start_time": "2025-05-05T10:42:57.790Z"
   },
   {
    "duration": 0,
    "start_time": "2025-05-05T10:42:57.791Z"
   },
   {
    "duration": 0,
    "start_time": "2025-05-05T10:42:57.792Z"
   },
   {
    "duration": 0,
    "start_time": "2025-05-05T10:42:57.793Z"
   },
   {
    "duration": 0,
    "start_time": "2025-05-05T10:42:57.794Z"
   },
   {
    "duration": 0,
    "start_time": "2025-05-05T10:42:57.795Z"
   },
   {
    "duration": 0,
    "start_time": "2025-05-05T10:42:57.796Z"
   },
   {
    "duration": 3253,
    "start_time": "2025-05-05T10:51:34.644Z"
   },
   {
    "duration": 1185,
    "start_time": "2025-05-05T10:51:37.899Z"
   },
   {
    "duration": 220,
    "start_time": "2025-05-05T10:51:39.086Z"
   },
   {
    "duration": 15,
    "start_time": "2025-05-05T10:51:39.307Z"
   },
   {
    "duration": 13,
    "start_time": "2025-05-05T10:51:39.324Z"
   },
   {
    "duration": 10,
    "start_time": "2025-05-05T10:51:39.339Z"
   },
   {
    "duration": 11,
    "start_time": "2025-05-05T10:51:39.351Z"
   },
   {
    "duration": 11,
    "start_time": "2025-05-05T10:51:39.370Z"
   },
   {
    "duration": 15,
    "start_time": "2025-05-05T10:51:39.382Z"
   },
   {
    "duration": 14,
    "start_time": "2025-05-05T10:51:39.398Z"
   },
   {
    "duration": 5,
    "start_time": "2025-05-05T10:51:39.414Z"
   },
   {
    "duration": 6,
    "start_time": "2025-05-05T10:51:39.421Z"
   },
   {
    "duration": 47,
    "start_time": "2025-05-05T10:51:39.429Z"
   },
   {
    "duration": 78,
    "start_time": "2025-05-05T10:51:39.480Z"
   },
   {
    "duration": 16,
    "start_time": "2025-05-05T10:51:39.560Z"
   },
   {
    "duration": 28,
    "start_time": "2025-05-05T10:51:39.578Z"
   },
   {
    "duration": 18,
    "start_time": "2025-05-05T10:51:39.608Z"
   },
   {
    "duration": 7,
    "start_time": "2025-05-05T10:51:39.628Z"
   },
   {
    "duration": 42,
    "start_time": "2025-05-05T10:51:39.637Z"
   },
   {
    "duration": 13,
    "start_time": "2025-05-05T10:51:39.681Z"
   },
   {
    "duration": 7,
    "start_time": "2025-05-05T10:51:39.695Z"
   },
   {
    "duration": 176,
    "start_time": "2025-05-05T10:51:39.703Z"
   },
   {
    "duration": 200,
    "start_time": "2025-05-05T10:51:39.882Z"
   },
   {
    "duration": 164,
    "start_time": "2025-05-05T10:51:40.084Z"
   },
   {
    "duration": 115,
    "start_time": "2025-05-05T10:51:40.250Z"
   },
   {
    "duration": 215,
    "start_time": "2025-05-05T10:51:40.370Z"
   },
   {
    "duration": 11,
    "start_time": "2025-05-05T10:51:40.586Z"
   },
   {
    "duration": 477,
    "start_time": "2025-05-05T10:51:40.599Z"
   },
   {
    "duration": 124,
    "start_time": "2025-05-05T10:51:41.079Z"
   },
   {
    "duration": 9,
    "start_time": "2025-05-05T10:51:41.205Z"
   },
   {
    "duration": 8,
    "start_time": "2025-05-05T10:51:41.216Z"
   },
   {
    "duration": 7,
    "start_time": "2025-05-05T10:51:41.225Z"
   },
   {
    "duration": 40,
    "start_time": "2025-05-05T10:51:41.233Z"
   },
   {
    "duration": 171,
    "start_time": "2025-05-05T10:51:41.275Z"
   },
   {
    "duration": 166,
    "start_time": "2025-05-05T10:51:41.448Z"
   },
   {
    "duration": 5,
    "start_time": "2025-05-05T10:51:41.616Z"
   },
   {
    "duration": 237,
    "start_time": "2025-05-05T10:51:41.623Z"
   },
   {
    "duration": 249,
    "start_time": "2025-05-05T10:51:41.862Z"
   },
   {
    "duration": 171,
    "start_time": "2025-05-05T10:51:42.112Z"
   },
   {
    "duration": 5,
    "start_time": "2025-05-05T10:51:42.285Z"
   },
   {
    "duration": 13,
    "start_time": "2025-05-05T10:51:42.294Z"
   },
   {
    "duration": 242,
    "start_time": "2025-05-05T10:51:42.310Z"
   },
   {
    "duration": 30,
    "start_time": "2025-05-05T10:51:42.554Z"
   },
   {
    "duration": 252,
    "start_time": "2025-05-05T10:51:42.586Z"
   },
   {
    "duration": 194,
    "start_time": "2025-05-05T10:51:42.840Z"
   },
   {
    "duration": 7,
    "start_time": "2025-05-05T11:00:10.195Z"
   },
   {
    "duration": 2643,
    "start_time": "2025-05-05T11:00:18.723Z"
   },
   {
    "duration": 1305,
    "start_time": "2025-05-05T11:00:21.368Z"
   },
   {
    "duration": 169,
    "start_time": "2025-05-05T11:00:22.675Z"
   },
   {
    "duration": 18,
    "start_time": "2025-05-05T11:00:22.846Z"
   },
   {
    "duration": 14,
    "start_time": "2025-05-05T11:00:22.866Z"
   },
   {
    "duration": 13,
    "start_time": "2025-05-05T11:00:22.882Z"
   },
   {
    "duration": 23,
    "start_time": "2025-05-05T11:00:22.896Z"
   },
   {
    "duration": 29,
    "start_time": "2025-05-05T11:00:22.921Z"
   },
   {
    "duration": 18,
    "start_time": "2025-05-05T11:00:22.952Z"
   },
   {
    "duration": 31,
    "start_time": "2025-05-05T11:00:22.973Z"
   },
   {
    "duration": 5,
    "start_time": "2025-05-05T11:00:23.006Z"
   },
   {
    "duration": 11,
    "start_time": "2025-05-05T11:00:23.013Z"
   },
   {
    "duration": 12,
    "start_time": "2025-05-05T11:00:23.025Z"
   },
   {
    "duration": 14,
    "start_time": "2025-05-05T11:00:23.040Z"
   },
   {
    "duration": 30,
    "start_time": "2025-05-05T11:00:23.056Z"
   },
   {
    "duration": 21,
    "start_time": "2025-05-05T11:00:23.088Z"
   },
   {
    "duration": 31,
    "start_time": "2025-05-05T11:00:23.111Z"
   },
   {
    "duration": 34,
    "start_time": "2025-05-05T11:00:23.144Z"
   },
   {
    "duration": 6,
    "start_time": "2025-05-05T11:00:23.181Z"
   },
   {
    "duration": 28,
    "start_time": "2025-05-05T11:00:23.189Z"
   },
   {
    "duration": 19,
    "start_time": "2025-05-05T11:00:23.219Z"
   },
   {
    "duration": 7,
    "start_time": "2025-05-05T11:00:23.240Z"
   },
   {
    "duration": 179,
    "start_time": "2025-05-05T11:00:23.271Z"
   },
   {
    "duration": 204,
    "start_time": "2025-05-05T11:00:23.452Z"
   },
   {
    "duration": 179,
    "start_time": "2025-05-05T11:00:23.657Z"
   },
   {
    "duration": 125,
    "start_time": "2025-05-05T11:00:23.839Z"
   },
   {
    "duration": 210,
    "start_time": "2025-05-05T11:00:23.971Z"
   },
   {
    "duration": 9,
    "start_time": "2025-05-05T11:00:24.183Z"
   },
   {
    "duration": 439,
    "start_time": "2025-05-05T11:00:24.193Z"
   },
   {
    "duration": 115,
    "start_time": "2025-05-05T11:00:24.633Z"
   },
   {
    "duration": 10,
    "start_time": "2025-05-05T11:00:24.749Z"
   },
   {
    "duration": 143,
    "start_time": "2025-05-05T11:00:24.761Z"
   },
   {
    "duration": 7,
    "start_time": "2025-05-05T11:00:24.905Z"
   },
   {
    "duration": 14,
    "start_time": "2025-05-05T11:00:24.914Z"
   },
   {
    "duration": 156,
    "start_time": "2025-05-05T11:00:24.930Z"
   },
   {
    "duration": 208,
    "start_time": "2025-05-05T11:00:25.088Z"
   },
   {
    "duration": 5,
    "start_time": "2025-05-05T11:00:25.298Z"
   },
   {
    "duration": 216,
    "start_time": "2025-05-05T11:00:25.305Z"
   },
   {
    "duration": 193,
    "start_time": "2025-05-05T11:00:25.523Z"
   },
   {
    "duration": 158,
    "start_time": "2025-05-05T11:00:25.717Z"
   },
   {
    "duration": 3,
    "start_time": "2025-05-05T11:00:25.879Z"
   },
   {
    "duration": 10,
    "start_time": "2025-05-05T11:00:25.884Z"
   },
   {
    "duration": 224,
    "start_time": "2025-05-05T11:00:25.895Z"
   },
   {
    "duration": 18,
    "start_time": "2025-05-05T11:00:26.120Z"
   },
   {
    "duration": 248,
    "start_time": "2025-05-05T11:00:26.139Z"
   },
   {
    "duration": 169,
    "start_time": "2025-05-05T11:00:26.388Z"
   },
   {
    "duration": 55,
    "start_time": "2025-05-05T11:18:06.954Z"
   },
   {
    "duration": 7,
    "start_time": "2025-05-05T11:27:04.622Z"
   },
   {
    "duration": 224,
    "start_time": "2025-05-05T11:42:33.846Z"
   },
   {
    "duration": 3504,
    "start_time": "2025-05-10T17:55:35.026Z"
   },
   {
    "duration": 1366,
    "start_time": "2025-05-10T17:55:38.533Z"
   },
   {
    "duration": 234,
    "start_time": "2025-05-10T17:55:39.902Z"
   },
   {
    "duration": 18,
    "start_time": "2025-05-10T17:55:40.138Z"
   },
   {
    "duration": 35,
    "start_time": "2025-05-10T17:55:40.159Z"
   },
   {
    "duration": 11,
    "start_time": "2025-05-10T17:55:40.196Z"
   },
   {
    "duration": 70,
    "start_time": "2025-05-10T17:55:40.209Z"
   },
   {
    "duration": 31,
    "start_time": "2025-05-10T17:55:40.286Z"
   },
   {
    "duration": 32,
    "start_time": "2025-05-10T17:55:40.319Z"
   },
   {
    "duration": 46,
    "start_time": "2025-05-10T17:55:40.353Z"
   },
   {
    "duration": 6,
    "start_time": "2025-05-10T17:55:40.401Z"
   },
   {
    "duration": 12,
    "start_time": "2025-05-10T17:55:40.409Z"
   },
   {
    "duration": 12,
    "start_time": "2025-05-10T17:55:40.423Z"
   },
   {
    "duration": 19,
    "start_time": "2025-05-10T17:55:40.438Z"
   },
   {
    "duration": 34,
    "start_time": "2025-05-10T17:55:40.459Z"
   },
   {
    "duration": 73,
    "start_time": "2025-05-10T17:55:40.496Z"
   },
   {
    "duration": 26,
    "start_time": "2025-05-10T17:55:40.571Z"
   },
   {
    "duration": 129,
    "start_time": "2025-05-10T17:55:40.599Z"
   },
   {
    "duration": 15,
    "start_time": "2025-05-10T17:55:40.730Z"
   },
   {
    "duration": 18,
    "start_time": "2025-05-10T17:55:40.747Z"
   },
   {
    "duration": 16,
    "start_time": "2025-05-10T17:55:40.768Z"
   },
   {
    "duration": 50,
    "start_time": "2025-05-10T17:55:40.787Z"
   },
   {
    "duration": 109,
    "start_time": "2025-05-10T17:55:40.839Z"
   },
   {
    "duration": 141,
    "start_time": "2025-05-10T17:55:40.950Z"
   },
   {
    "duration": 22,
    "start_time": "2025-05-10T17:55:41.093Z"
   },
   {
    "duration": 9,
    "start_time": "2025-05-10T17:55:41.117Z"
   },
   {
    "duration": 258,
    "start_time": "2025-05-10T17:55:41.128Z"
   },
   {
    "duration": 62,
    "start_time": "2025-05-10T17:55:41.391Z"
   },
   {
    "duration": 46,
    "start_time": "2025-05-10T17:55:41.455Z"
   },
   {
    "duration": 7,
    "start_time": "2025-05-10T17:55:41.503Z"
   },
   {
    "duration": 10,
    "start_time": "2025-05-10T17:55:41.512Z"
   },
   {
    "duration": 19,
    "start_time": "2025-05-10T17:55:41.524Z"
   },
   {
    "duration": 8,
    "start_time": "2025-05-10T17:55:41.546Z"
   },
   {
    "duration": 212,
    "start_time": "2025-05-10T17:55:41.556Z"
   },
   {
    "duration": 9,
    "start_time": "2025-05-10T17:55:41.770Z"
   },
   {
    "duration": 24,
    "start_time": "2025-05-10T17:55:41.781Z"
   },
   {
    "duration": 228,
    "start_time": "2025-05-10T17:55:41.807Z"
   },
   {
    "duration": 8,
    "start_time": "2025-05-10T17:55:42.037Z"
   },
   {
    "duration": 53,
    "start_time": "2025-05-10T17:55:42.047Z"
   },
   {
    "duration": 225,
    "start_time": "2025-05-10T17:55:42.102Z"
   },
   {
    "duration": 6,
    "start_time": "2025-05-10T17:55:42.331Z"
   },
   {
    "duration": 13,
    "start_time": "2025-05-10T17:55:42.338Z"
   },
   {
    "duration": 167,
    "start_time": "2025-05-10T17:55:42.365Z"
   },
   {
    "duration": 271,
    "start_time": "2025-05-10T17:55:42.534Z"
   },
   {
    "duration": 349,
    "start_time": "2025-05-10T17:55:42.807Z"
   },
   {
    "duration": 12,
    "start_time": "2025-05-10T17:55:43.162Z"
   },
   {
    "duration": 658,
    "start_time": "2025-05-10T17:55:43.176Z"
   },
   {
    "duration": 164,
    "start_time": "2025-05-10T17:55:43.836Z"
   },
   {
    "duration": 12,
    "start_time": "2025-05-10T17:55:44.003Z"
   },
   {
    "duration": 26,
    "start_time": "2025-05-10T17:55:44.016Z"
   },
   {
    "duration": 29,
    "start_time": "2025-05-10T17:55:44.044Z"
   },
   {
    "duration": 27,
    "start_time": "2025-05-10T17:55:44.077Z"
   },
   {
    "duration": 220,
    "start_time": "2025-05-10T17:55:44.106Z"
   },
   {
    "duration": 318,
    "start_time": "2025-05-10T17:55:44.329Z"
   },
   {
    "duration": 230,
    "start_time": "2025-05-10T17:55:44.649Z"
   },
   {
    "duration": 35,
    "start_time": "2025-05-10T17:55:44.882Z"
   },
   {
    "duration": 4,
    "start_time": "2025-05-10T17:55:44.918Z"
   },
   {
    "duration": 296,
    "start_time": "2025-05-10T17:55:44.924Z"
   },
   {
    "duration": 222,
    "start_time": "2025-05-10T17:55:45.221Z"
   },
   {
    "duration": 219,
    "start_time": "2025-05-10T17:55:45.445Z"
   },
   {
    "duration": 9,
    "start_time": "2025-05-10T17:55:45.666Z"
   },
   {
    "duration": 14,
    "start_time": "2025-05-10T17:55:45.681Z"
   },
   {
    "duration": 23,
    "start_time": "2025-05-10T17:55:45.697Z"
   },
   {
    "duration": 285,
    "start_time": "2025-05-10T17:55:45.722Z"
   },
   {
    "duration": 22,
    "start_time": "2025-05-10T17:55:46.009Z"
   },
   {
    "duration": 423,
    "start_time": "2025-05-10T17:55:46.033Z"
   },
   {
    "duration": 18,
    "start_time": "2025-05-10T17:55:46.457Z"
   },
   {
    "duration": 514,
    "start_time": "2025-05-10T17:55:46.479Z"
   },
   {
    "duration": 147,
    "start_time": "2025-05-10T17:55:46.995Z"
   },
   {
    "duration": 47,
    "start_time": "2025-05-10T17:55:47.144Z"
   },
   {
    "duration": 18,
    "start_time": "2025-05-10T17:55:47.196Z"
   },
   {
    "duration": 277,
    "start_time": "2025-05-10T17:55:47.215Z"
   },
   {
    "duration": 319,
    "start_time": "2025-05-10T17:55:47.494Z"
   },
   {
    "duration": 28,
    "start_time": "2025-05-10T18:33:55.202Z"
   },
   {
    "duration": 8,
    "start_time": "2025-05-10T18:37:52.191Z"
   },
   {
    "duration": 11,
    "start_time": "2025-05-10T18:38:11.280Z"
   },
   {
    "duration": 8,
    "start_time": "2025-05-10T18:38:24.495Z"
   }
  ],
  "colab": {
   "provenance": []
  },
  "kernelspec": {
   "display_name": "Python [conda env:practicum]",
   "language": "python",
   "name": "conda-env-practicum-py"
  },
  "language_info": {
   "codemirror_mode": {
    "name": "ipython",
    "version": 3
   },
   "file_extension": ".py",
   "mimetype": "text/x-python",
   "name": "python",
   "nbconvert_exporter": "python",
   "pygments_lexer": "ipython3",
   "version": "3.9.21"
  },
  "toc": {
   "base_numbering": 1,
   "nav_menu": {},
   "number_sections": true,
   "sideBar": true,
   "skip_h1_title": true,
   "title_cell": "Table of Contents",
   "title_sidebar": "Contents",
   "toc_cell": false,
   "toc_position": {
    "height": "calc(100% - 180px)",
    "left": "10px",
    "top": "150px",
    "width": "212.938px"
   },
   "toc_section_display": true,
   "toc_window_display": true
  }
 },
 "nbformat": 4,
 "nbformat_minor": 5
}
